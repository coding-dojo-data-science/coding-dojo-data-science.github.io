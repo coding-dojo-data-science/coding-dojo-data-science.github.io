{
 "cells": [
  {
   "cell_type": "markdown",
   "metadata": {},
   "source": [
    "# Adding GitHub Pages Header"
   ]
  },
  {
   "cell_type": "markdown",
   "metadata": {},
   "source": [
    "- 09/20/23"
   ]
  },
  {
   "cell_type": "markdown",
   "metadata": {},
   "source": [
    "## Goal"
   ]
  },
  {
   "cell_type": "markdown",
   "metadata": {},
   "source": [
    "- Header that needs to be added to the top of any page to include:\n",
    "```\n",
    "___\n",
    "layout: page\n",
    "title: \"PAGE-TITLE\"\n",
    "permalink: /URL-PATH\n",
    "___\n",
    "```\n",
    "\n",
    "\n",
    "- This notebook will update pre-selected markdown files to ensure they have the correct header added.\n",
    "\n",
    "### Questions/Thoughts\n",
    "- Note sure if it matters if using the repo-hosted images or the ones from the LP\n",
    "- Am going to assume the local ones (which end with _Repo.md) for now"
   ]
  },
  {
   "cell_type": "code",
   "execution_count": 20,
   "metadata": {},
   "outputs": [
    {
     "data": {
      "text/plain": [
       "['../../docs/_source/Installation Overview-v23_Repo.md',\n",
       " '../../docs/_source/Instructions-updating-dojo-env-v23_Repo.md',\n",
       " '../../docs/_source/instructions-mac-intel-v23_Repo.md',\n",
       " '../../docs/_source/instructions-mac-mchip-v23_Repo.md',\n",
       " '../../docs/_source/instructions-windows-v23_Repo.md']"
      ]
     },
     "execution_count": 20,
     "metadata": {},
     "output_type": "execute_result"
    }
   ],
   "source": [
    "import os, glob\n",
    "\n",
    "pages_files = sorted(glob.glob(\"../../**/*_Repo.md\", recursive=True))\n",
    "pages_files"
   ]
  },
  {
   "cell_type": "code",
   "execution_count": 21,
   "metadata": {},
   "outputs": [],
   "source": [
    "base_url = \"https://coding-dojo-data-science.github.io\"\n"
   ]
  },
  {
   "cell_type": "markdown",
   "metadata": {},
   "source": [
    "> Constructing the header info for each of the found pages. (note: there is definitely a more programmatic way to do this, but do not have the time right now to figure out)"
   ]
  },
  {
   "cell_type": "code",
   "execution_count": 22,
   "metadata": {},
   "outputs": [
    {
     "data": {
      "text/plain": [
       "'../../docs/_source/Installation Overview-v23_Repo.md'"
      ]
     },
     "execution_count": 22,
     "metadata": {},
     "output_type": "execute_result"
    }
   ],
   "source": [
    "page = pages_files[0]\n",
    "page"
   ]
  },
  {
   "cell_type": "code",
   "execution_count": 23,
   "metadata": {},
   "outputs": [
    {
     "data": {
      "text/plain": [
       "True"
      ]
     },
     "execution_count": 23,
     "metadata": {},
     "output_type": "execute_result"
    }
   ],
   "source": [
    "from pathlib import Path\n",
    "\n",
    "page_file = Path(page)\n",
    "page_file.exists()"
   ]
  },
  {
   "cell_type": "code",
   "execution_count": 24,
   "metadata": {},
   "outputs": [
    {
     "data": {
      "text/plain": [
       "'# Python Installation for Data Science - Overview\\n\\n___\\n\\n- [Click here](https://hackmd.io/@jirvingphd/dojo-env-overview) for the web version of these instructions.\\n\\n___\\n\\n\\n\\n<center>\\n<img src=\"images/Data Science Thumbnail.png_raw=true\" width=500px></center>\\n\\n\\nSo far in this program, you have worked in Google Colab, which provides a cloud-based coding environment. \\n- We will transition to using a Python environment stored on your local machine. \\n    - Jupyter Notebook will replace Google Colab. \\n    - GitHub Desktop will sync your work.\\n___\\n\\n## Installation Timeline/Deadline\\n\\n- In the Data Enrichment course, you will need to submit a CORE ASSIGNMENT containing the error-free test notebook that is included within these instructions. This will ensure that you have the tools you will need to be successful.\\n- We recommend you begin the step-by-step installation AS SOON AS POSSIBLE to ensure you have time to troubleshoot any difficulties you may encounter.\\n- These steps should take ~30-90 minutes, depending on the speed of your machine and internet connection.\\n\\n- If you run into issues during installation, see the \"How to Ask for Help\" secton at the bottom of this page. \\n\\n- The [dojo-env-setup repository](https://github.com/coding-dojo-data-science/dojo-env-setup), which you will clone in  Step 2.1, contains a backup copy of the entire set of instructions on the README, for convenience.\\n\\n***Note: if you previously installed the dojo-env and are upgrading to the current version, please see the \"Updating to New dojo-env\" instructions***\\n\\n<hr>\\n\\n## Installation Overview:\\n\\n<img src=\"images/1693253644__PythonInstallationforDSOverviewv234.png\">\\n\\nBy the end of this installation, you will:\\n\\n**1) Install or Set Up a Terminal application:**\\n\\n- The terminal is the primary application you will use to execute programming commands.\\n    - Mac and Linux users should already have a Terminal application installed.\\n    - Windows users will install additional software (Windows Terminal + Git for Windows)\\n\\n**2) Install a Python distribution:**\\n\\nThe foundation/infrastructure for installing our custom Python environment.\\n- Windows and Intel-Macs will install Anaconda. \\n- Apple Chip Macs will installing a lightweight alternative called miniforge. \\n\\n**3) Install GitHub Desktop**\\n\\n- Desktop application for working with and managing git repositories. \\n\\n**4) Create our custom Python environment (dojo-env)**\\n\\n- An environment is a bundle of specific versions of python packages that are mutually compatible.\\n- We will install our custom `dojo-env`` Python environment, located in the [dojo-env-setup repository](https://github.com/coding-dojo-data-science/dojo-env-setup).  \\n\\n**5) Test & customize the environment using Jupyter Notebook**\\n\\n- Jupyter Notebook will replace Google Colab on your local computer.\\n\\n**6) Install Visual Studio Code** as a secondary code editor.\\n\\n- A special text editor designed for code. It has many extensions and languages available.\\n\\n- We will use it to edit special files later in the course, but it can also run notebooks too!\\n\\n<img src=\"images/1693253662__PythonInstallationforDSOverviewv235.png\">\\n\\n___\\n\\n# OS-Specific Instructions\\n\\n**Please make sure you select the correct instructions page, based on your computer\\'s operating system!**\\n\\n### Supported Operating Systems\\n\\nWe have prepared environment files (.yml files) for 4 different OS configurations:\\n- Windows (10 & 11)\\n- Mac (with Intel Processors)†\\n- Mac (Apple Chips)†\\n\\n___\\n\\n### †Mac users - if you don\\'t know which type of Mac you have :\\n\\n**Check the \"About this Mac\" screen for your computer:**\\n\\n- Click on the Apple symbol in the top-left corner of your screen >  Click \"About This Mac\".\\n\\n- A window with your computer\\'s specs will appear like the one in the screenshots below, depending on how which version of macOS you have installed. \\n\\n<left>\\n<img src=\"images/1691528956__aboutthismacintelannotated.png\" width=300px></left>\\n<right>\\n<img src=\"images/1691528713__aboutthismac2023annotated.png\" width=200px></right>\\n\\n\\n- **If it has a \"Processor\" line that says \"Intel\"** you should follow the Instructions: Mac (Intel Processor).\\n\\n- **If it has a \"Chip\" line that says \"Apple\"** then you should follow the Instructions: Mac (Apple Chip).\\n\\n\\n## Installation Instructions Pages\\n\\n> **Please review the How to Ask for Help Section At the Bottom of this page if you get stuck!**\\n\\nFor New Installations:\\n- [Instructions for Mac (Intel Processors)](https://hackmd.io/@jirvingphd/dojo-env-mac-intel)\\n- [Instructions for Mac (Apple Chips)](https://hackmd.io/@jirvingphd/dojo-env-mac-apple-chip)\\n- [Instructions for Windows](https://hackmd.io/@jirvingphd/dojo-env-windows)\\n\\nFor updating Pre-Existing Install: \\n- [Updating to a New dojo-env](https://hackmd.io/@jirvingphd/update-dojo-env)\\n___\\n\\n## How to Ask for Help\\n\\n**If you encounter an error during installation:**\\n***You may continue to work through the first half of the data enrichment week 1 lessons & assignments while troubleshooting your local installation!*** The first lessons and assignments can be completed using Google Colab.\\n\\n- **First, read a little further down in the instructions** to make sure we do not already address the error message that you ran into.\\n\\n- **Second, please check the \"Troubleshooting\" chapter on the learnig platform for a lesson that mentions your problem.** about the problem you are running into. (The Troubleshooting section is the 3rd chapter in this course - see the screenshot below)\\n\\n    <img src=\"images/1658334627__Troubleshooting-chapter.png\" width=200px>\\n\\n- **Third, reach out on the \\\\#[ds-python-installation Discord channel](https://discord.com/channels/738494436467539968/1099094868762042400) with the following info:**\\n\\n    - A) Which step are you on? (e.g. Step 2.3.3 Confirm the env was created)\\n    - B) Which OS you are using (e.g. Windows 10, Windows 11, Mac with an mchip, Mac with an Intel processor, etc.)\\n    - C) Let us know if you\\'ve previously installed an older version of Python.\\n    - D) Attach your copy of the  environment tester notebook and the FINAL_REPORT.txt files.\\n    - E) Include any additional screenshots of the error/issue you are running into, whenever possible.\\n    - F) Add any additional details or info you think may be helpful for us to know.\\n        - For example:\\n            - \"My computer is really old and I think that may be part of the problem.\"\\n            - \"I share this computer with someone else who also uses python\"\\n            - \"This is my work computer and I am not an administrator.\" etc\\n\\n- **Fourth, if you do not receive a response by the end of the day on Discord, please email your instructor with the same information.**\\n\\n    - An instructor or TA will get back to you within 1 business day with the next steps for you to try.\\n    - You will most likely need to set up a Zoom call and share your screen for us to help.\\n\\n> **Now, navigate to the correct instructions page, based on your operating system, as explained above:**\\n\\n\\n<!-- #### **Note to Linux Users: \\n\\nOur Linux installation instructions are still in beta. While they have successfully been installed on students\\' Linux machines, we currently do not have a Linux machine available for troubleshooting.\\n\\n<hr> -->\\n\\n___\\n\\n# APPENDIX\\n\\n## Links of Interest\\n> 08/23/23 Note: Switch to the `v2023` branch in the dojo-env-setup repo in GitHub Desktop for the correct env files. \\n- [Overview Page(This Page)](https://hackmd.io/@jirvingphd/dojo-env-overview)\\n- [dojo-env-setup repo](https://github.com/coding-dojo-data-science/dojo-env-setup)\\n- [Instructions for Mac (Intel Processors)](https://hackmd.io/@jirvingphd/dojo-env-mac-intel)\\n- [Instructions for Mac (Apple Chips)](https://hackmd.io/@jirvingphd/dojo-env-mac-apple-chip)\\n- [Instructions for Windows](https://hackmd.io/@jirvingphd/dojo-env-windows)\\n- [Updating to a New dojo-env](https://hackmd.io/@jirvingphd/update-dojo-env)\\n\\n\\n- [conda: Mangaging Environments - CheatSheet](https://conda.io/projects/conda/en/latest/user-guide/tasks/manage-environments.html#activating-an-environment)\\n\\n<!-- - [Working Locally (PDF[`COMING SOON!`])]() -->\\n\\n\\n\\n## Reference: Helpful Commands\\n\\n### Installation Commands\\n\\n- To activate dojo-env and add it to Jupyter (after installation)\\n\\n```bash\\nconda activate dojo-env               \\npython -m ipykernel install --user --name dojo-env --display-name \"Python (dojo-env)\"\\n```\\n\\n- To re-add `conda` command:\\n\\n```bash\\n# Generic command (doesn\\'t always work)\\nconda init\\n\\n# Windows\\nconda init  bash\\n\\n# Mac \\nconda init zsh\\n```\\n\\n### Uninstall commands\\n\\n#### Uninstall dojo-env\\n\\n- To remove the current dojo-env:\\n\\n```bash\\nconda activate base                             \\nconda remove --name dojo-env --all\\n```\\n\\n- Then answer `y` for yes\\n\\n------\\n\\n### Setting Default Env\\n\\n#### For Mac Users (using the default terminal - zsh)\\n\\n```bash\\ntouch ~/.zshrc\\necho \"conda activate dojo-env\" >> ~/.zshrc\\necho \\'alias jnb=\"jupyter notebook\"\\' >> ~/.zshrc\\necho \\'alias lab=\"jupyter lab\"\\' >> ~/.zshrc\\n```\\n\\n#### For Windows Users (or mac users who switched to bash)\\n\\n- To set dojo-env as the default Python env and add Jupyter shortcuts\\n\\nNote: you may need to replace `~` with the full path to your user folder. (e.g. \"/Users/codingdojo/.bash_profile\" instead of \"~/.bash_profile\")\\n\\n```bash\\ntouch ~/.bash_profile\\necho \"conda activate dojo-env\" >> ~/.bash_profile\\necho \\'alias jnb=\"jupyter notebook\"\\' >> ~/.bash_profile\\necho \\'alias lab=\"jupyter lab\"\\' >> ~/.bash_profile\\n```\\n\\n------\\n\\n### Managing Jupyter Kernels\\n\\n- To see the list of kernels that jupyter will display as options:\\n\\n```bash\\njupyter kernelspec list \\n```\\n\\n- To remove a kernel that no longer exists (replace `<kernel name>` with name of kernel from the jupyter kernelspec list command ):\\n\\n```bash\\njupyter kernelspec remove <kernel name>\\n```\\n\\n```bash\\n# Example:\\njupyter kernelspec remove dojo-env-old\\n```\\n\\n'"
      ]
     },
     "execution_count": 24,
     "metadata": {},
     "output_type": "execute_result"
    }
   ],
   "source": [
    "txt = page_file.read_text()\n",
    "txt"
   ]
  },
  {
   "cell_type": "code",
   "execution_count": 25,
   "metadata": {},
   "outputs": [],
   "source": [
    "import re\n",
    "\n",
    "def extract_first_h1(text):\n",
    "    # Remove anything before the first newline character\n",
    "    # text = text.split(\"\\n\", 1)[0]\n",
    "    repl_parentheses = \"_\"\n",
    "    to_replace = {'*':'',\n",
    "                  ' (':repl_parentheses,\n",
    "                  ') ':repl_parentheses,\n",
    "                  '(':repl_parentheses,\n",
    "                  ')':repl_parentheses,\n",
    "                  '  ':'',\n",
    "                  }\n",
    "    for char,replacement in to_replace.items():\n",
    "        text = text.replace(char,replacement)\n",
    "    \n",
    "    # The pattern looks for a line that starts with '# ' and captures everything after that until the end of the line.\n",
    "    pattern = r\"^# (.+)$\"\n",
    "    \n",
    "    # Use re.search to find the first match in the text\n",
    "    match = re.search(pattern, text, re.MULTILINE)\n",
    "    \n",
    "    # If a match is found, return the captured group, otherwise return None\n",
    "    return match.group(1) if match else None\n"
   ]
  },
  {
   "cell_type": "code",
   "execution_count": 26,
   "metadata": {},
   "outputs": [
    {
     "data": {
      "text/plain": [
       "'Python Installation for Data Science - Overview'"
      ]
     },
     "execution_count": 26,
     "metadata": {},
     "output_type": "execute_result"
    }
   ],
   "source": [
    "title = extract_first_h1(txt)\n",
    "title"
   ]
  },
  {
   "cell_type": "code",
   "execution_count": 27,
   "metadata": {},
   "outputs": [
    {
     "name": "stdout",
     "output_type": "stream",
     "text": [
      "Python Installation for Data Science - Overview\n",
      "Updating to a new dojo-env\n",
      "Mac_Intel_Installation Overview\n",
      "Mac_Apple Chip_Installation Overview\n",
      "Windows Installation Instructions\n"
     ]
    },
    {
     "data": {
      "text/plain": [
       "dict_keys(['Python Installation for Data Science - Overview', 'Updating to a new dojo-env', 'Mac_Intel_Installation Overview', 'Mac_Apple Chip_Installation Overview', 'Windows Installation Instructions'])"
      ]
     },
     "execution_count": 27,
     "metadata": {},
     "output_type": "execute_result"
    }
   ],
   "source": [
    "FILES = {}\n",
    "for page in pages_files:\n",
    "    page_file = Path(page)\n",
    "    txt = page_file.read_text()\n",
    "    title = extract_first_h1(txt)\n",
    "    FILES[title] = {'file':page,\n",
    "                    'text':txt,\n",
    "                    'title':title}\n",
    "    print(title)\n",
    "FILES.keys()"
   ]
  },
  {
   "cell_type": "markdown",
   "metadata": {},
   "source": [
    "## Next step:construct permalink"
   ]
  },
  {
   "cell_type": "code",
   "execution_count": 28,
   "metadata": {},
   "outputs": [],
   "source": [
    "links_dict = {'overview':'dojo-env-setup',\n",
    "              'windows':'dojo-env-windows',\n",
    "              'apple chip': 'dojo-env-mac-apple-chip',\n",
    "              'apple intel':'dojo-env-mac-intel'}"
   ]
  },
  {
   "cell_type": "code",
   "execution_count": 29,
   "metadata": {},
   "outputs": [
    {
     "data": {
      "text/plain": [
       "'Python Installation for Data Science - Overview'"
      ]
     },
     "execution_count": 29,
     "metadata": {},
     "output_type": "execute_result"
    }
   ],
   "source": [
    "test_keys = list(FILES.keys())\n",
    "key = test_keys[0]\n",
    "key"
   ]
  },
  {
   "cell_type": "code",
   "execution_count": 30,
   "metadata": {},
   "outputs": [
    {
     "data": {
      "text/plain": [
       "{'file': '../../docs/_source/Installation Overview-v23_Repo.md',\n",
       " 'text': '# Python Installation for Data Science - Overview\\n\\n___\\n\\n- [Click here](https://hackmd.io/@jirvingphd/dojo-env-overview) for the web version of these instructions.\\n\\n___\\n\\n\\n\\n<center>\\n<img src=\"images/Data Science Thumbnail.png_raw=true\" width=500px></center>\\n\\n\\nSo far in this program, you have worked in Google Colab, which provides a cloud-based coding environment. \\n- We will transition to using a Python environment stored on your local machine. \\n    - Jupyter Notebook will replace Google Colab. \\n    - GitHub Desktop will sync your work.\\n___\\n\\n## Installation Timeline/Deadline\\n\\n- In the Data Enrichment course, you will need to submit a CORE ASSIGNMENT containing the error-free test notebook that is included within these instructions. This will ensure that you have the tools you will need to be successful.\\n- We recommend you begin the step-by-step installation AS SOON AS POSSIBLE to ensure you have time to troubleshoot any difficulties you may encounter.\\n- These steps should take ~30-90 minutes, depending on the speed of your machine and internet connection.\\n\\n- If you run into issues during installation, see the \"How to Ask for Help\" secton at the bottom of this page. \\n\\n- The [dojo-env-setup repository](https://github.com/coding-dojo-data-science/dojo-env-setup), which you will clone in  Step 2.1, contains a backup copy of the entire set of instructions on the README, for convenience.\\n\\n***Note: if you previously installed the dojo-env and are upgrading to the current version, please see the \"Updating to New dojo-env\" instructions***\\n\\n<hr>\\n\\n## Installation Overview:\\n\\n<img src=\"images/1693253644__PythonInstallationforDSOverviewv234.png\">\\n\\nBy the end of this installation, you will:\\n\\n**1) Install or Set Up a Terminal application:**\\n\\n- The terminal is the primary application you will use to execute programming commands.\\n    - Mac and Linux users should already have a Terminal application installed.\\n    - Windows users will install additional software (Windows Terminal + Git for Windows)\\n\\n**2) Install a Python distribution:**\\n\\nThe foundation/infrastructure for installing our custom Python environment.\\n- Windows and Intel-Macs will install Anaconda. \\n- Apple Chip Macs will installing a lightweight alternative called miniforge. \\n\\n**3) Install GitHub Desktop**\\n\\n- Desktop application for working with and managing git repositories. \\n\\n**4) Create our custom Python environment (dojo-env)**\\n\\n- An environment is a bundle of specific versions of python packages that are mutually compatible.\\n- We will install our custom `dojo-env`` Python environment, located in the [dojo-env-setup repository](https://github.com/coding-dojo-data-science/dojo-env-setup).  \\n\\n**5) Test & customize the environment using Jupyter Notebook**\\n\\n- Jupyter Notebook will replace Google Colab on your local computer.\\n\\n**6) Install Visual Studio Code** as a secondary code editor.\\n\\n- A special text editor designed for code. It has many extensions and languages available.\\n\\n- We will use it to edit special files later in the course, but it can also run notebooks too!\\n\\n<img src=\"images/1693253662__PythonInstallationforDSOverviewv235.png\">\\n\\n___\\n\\n# OS-Specific Instructions\\n\\n**Please make sure you select the correct instructions page, based on your computer\\'s operating system!**\\n\\n### Supported Operating Systems\\n\\nWe have prepared environment files (.yml files) for 4 different OS configurations:\\n- Windows (10 & 11)\\n- Mac (with Intel Processors)†\\n- Mac (Apple Chips)†\\n\\n___\\n\\n### †Mac users - if you don\\'t know which type of Mac you have :\\n\\n**Check the \"About this Mac\" screen for your computer:**\\n\\n- Click on the Apple symbol in the top-left corner of your screen >  Click \"About This Mac\".\\n\\n- A window with your computer\\'s specs will appear like the one in the screenshots below, depending on how which version of macOS you have installed. \\n\\n<left>\\n<img src=\"images/1691528956__aboutthismacintelannotated.png\" width=300px></left>\\n<right>\\n<img src=\"images/1691528713__aboutthismac2023annotated.png\" width=200px></right>\\n\\n\\n- **If it has a \"Processor\" line that says \"Intel\"** you should follow the Instructions: Mac (Intel Processor).\\n\\n- **If it has a \"Chip\" line that says \"Apple\"** then you should follow the Instructions: Mac (Apple Chip).\\n\\n\\n## Installation Instructions Pages\\n\\n> **Please review the How to Ask for Help Section At the Bottom of this page if you get stuck!**\\n\\nFor New Installations:\\n- [Instructions for Mac (Intel Processors)](https://hackmd.io/@jirvingphd/dojo-env-mac-intel)\\n- [Instructions for Mac (Apple Chips)](https://hackmd.io/@jirvingphd/dojo-env-mac-apple-chip)\\n- [Instructions for Windows](https://hackmd.io/@jirvingphd/dojo-env-windows)\\n\\nFor updating Pre-Existing Install: \\n- [Updating to a New dojo-env](https://hackmd.io/@jirvingphd/update-dojo-env)\\n___\\n\\n## How to Ask for Help\\n\\n**If you encounter an error during installation:**\\n***You may continue to work through the first half of the data enrichment week 1 lessons & assignments while troubleshooting your local installation!*** The first lessons and assignments can be completed using Google Colab.\\n\\n- **First, read a little further down in the instructions** to make sure we do not already address the error message that you ran into.\\n\\n- **Second, please check the \"Troubleshooting\" chapter on the learnig platform for a lesson that mentions your problem.** about the problem you are running into. (The Troubleshooting section is the 3rd chapter in this course - see the screenshot below)\\n\\n    <img src=\"images/1658334627__Troubleshooting-chapter.png\" width=200px>\\n\\n- **Third, reach out on the \\\\#[ds-python-installation Discord channel](https://discord.com/channels/738494436467539968/1099094868762042400) with the following info:**\\n\\n    - A) Which step are you on? (e.g. Step 2.3.3 Confirm the env was created)\\n    - B) Which OS you are using (e.g. Windows 10, Windows 11, Mac with an mchip, Mac with an Intel processor, etc.)\\n    - C) Let us know if you\\'ve previously installed an older version of Python.\\n    - D) Attach your copy of the  environment tester notebook and the FINAL_REPORT.txt files.\\n    - E) Include any additional screenshots of the error/issue you are running into, whenever possible.\\n    - F) Add any additional details or info you think may be helpful for us to know.\\n        - For example:\\n            - \"My computer is really old and I think that may be part of the problem.\"\\n            - \"I share this computer with someone else who also uses python\"\\n            - \"This is my work computer and I am not an administrator.\" etc\\n\\n- **Fourth, if you do not receive a response by the end of the day on Discord, please email your instructor with the same information.**\\n\\n    - An instructor or TA will get back to you within 1 business day with the next steps for you to try.\\n    - You will most likely need to set up a Zoom call and share your screen for us to help.\\n\\n> **Now, navigate to the correct instructions page, based on your operating system, as explained above:**\\n\\n\\n<!-- #### **Note to Linux Users: \\n\\nOur Linux installation instructions are still in beta. While they have successfully been installed on students\\' Linux machines, we currently do not have a Linux machine available for troubleshooting.\\n\\n<hr> -->\\n\\n___\\n\\n# APPENDIX\\n\\n## Links of Interest\\n> 08/23/23 Note: Switch to the `v2023` branch in the dojo-env-setup repo in GitHub Desktop for the correct env files. \\n- [Overview Page(This Page)](https://hackmd.io/@jirvingphd/dojo-env-overview)\\n- [dojo-env-setup repo](https://github.com/coding-dojo-data-science/dojo-env-setup)\\n- [Instructions for Mac (Intel Processors)](https://hackmd.io/@jirvingphd/dojo-env-mac-intel)\\n- [Instructions for Mac (Apple Chips)](https://hackmd.io/@jirvingphd/dojo-env-mac-apple-chip)\\n- [Instructions for Windows](https://hackmd.io/@jirvingphd/dojo-env-windows)\\n- [Updating to a New dojo-env](https://hackmd.io/@jirvingphd/update-dojo-env)\\n\\n\\n- [conda: Mangaging Environments - CheatSheet](https://conda.io/projects/conda/en/latest/user-guide/tasks/manage-environments.html#activating-an-environment)\\n\\n<!-- - [Working Locally (PDF[`COMING SOON!`])]() -->\\n\\n\\n\\n## Reference: Helpful Commands\\n\\n### Installation Commands\\n\\n- To activate dojo-env and add it to Jupyter (after installation)\\n\\n```bash\\nconda activate dojo-env               \\npython -m ipykernel install --user --name dojo-env --display-name \"Python (dojo-env)\"\\n```\\n\\n- To re-add `conda` command:\\n\\n```bash\\n# Generic command (doesn\\'t always work)\\nconda init\\n\\n# Windows\\nconda init  bash\\n\\n# Mac \\nconda init zsh\\n```\\n\\n### Uninstall commands\\n\\n#### Uninstall dojo-env\\n\\n- To remove the current dojo-env:\\n\\n```bash\\nconda activate base                             \\nconda remove --name dojo-env --all\\n```\\n\\n- Then answer `y` for yes\\n\\n------\\n\\n### Setting Default Env\\n\\n#### For Mac Users (using the default terminal - zsh)\\n\\n```bash\\ntouch ~/.zshrc\\necho \"conda activate dojo-env\" >> ~/.zshrc\\necho \\'alias jnb=\"jupyter notebook\"\\' >> ~/.zshrc\\necho \\'alias lab=\"jupyter lab\"\\' >> ~/.zshrc\\n```\\n\\n#### For Windows Users (or mac users who switched to bash)\\n\\n- To set dojo-env as the default Python env and add Jupyter shortcuts\\n\\nNote: you may need to replace `~` with the full path to your user folder. (e.g. \"/Users/codingdojo/.bash_profile\" instead of \"~/.bash_profile\")\\n\\n```bash\\ntouch ~/.bash_profile\\necho \"conda activate dojo-env\" >> ~/.bash_profile\\necho \\'alias jnb=\"jupyter notebook\"\\' >> ~/.bash_profile\\necho \\'alias lab=\"jupyter lab\"\\' >> ~/.bash_profile\\n```\\n\\n------\\n\\n### Managing Jupyter Kernels\\n\\n- To see the list of kernels that jupyter will display as options:\\n\\n```bash\\njupyter kernelspec list \\n```\\n\\n- To remove a kernel that no longer exists (replace `<kernel name>` with name of kernel from the jupyter kernelspec list command ):\\n\\n```bash\\njupyter kernelspec remove <kernel name>\\n```\\n\\n```bash\\n# Example:\\njupyter kernelspec remove dojo-env-old\\n```\\n\\n',\n",
       " 'title': 'Python Installation for Data Science - Overview'}"
      ]
     },
     "execution_count": 30,
     "metadata": {},
     "output_type": "execute_result"
    }
   ],
   "source": [
    "FILES[key]"
   ]
  },
  {
   "cell_type": "code",
   "execution_count": 31,
   "metadata": {},
   "outputs": [
    {
     "name": "stdout",
     "output_type": "stream",
     "text": [
      "https://coding-dojo-data-science.github.io/dojo-env-setup\n",
      "https://coding-dojo-data-science.github.io/dojo-env-setup\n",
      "https://coding-dojo-data-science.github.io/dojo-env-setup\n",
      "https://coding-dojo-data-science.github.io/dojo-env-mac-apple-chip\n",
      "https://coding-dojo-data-science.github.io/dojo-env-windows\n"
     ]
    }
   ],
   "source": [
    "# determine the urls\n",
    "for file, details in FILES.items():\n",
    "\ttitle = details['title']\n",
    "\tfor page_type, url_end in links_dict.items():\n",
    "\t\tif page_type in title.lower():\n",
    "\t\t\turl = base_url +'/' + url_end\n",
    "\t\t\t\n",
    "\t\t\tFILES[file]['url'] = url\n",
    "\t\t\tprint(url)"
   ]
  },
  {
   "cell_type": "code",
   "execution_count": 32,
   "metadata": {},
   "outputs": [
    {
     "data": {
      "text/plain": [
       "{'file': '../../docs/_source/Installation Overview-v23_Repo.md',\n",
       " 'text': '# Python Installation for Data Science - Overview\\n\\n___\\n\\n- [Click here](https://hackmd.io/@jirvingphd/dojo-env-overview) for the web version of these instructions.\\n\\n___\\n\\n\\n\\n<center>\\n<img src=\"images/Data Science Thumbnail.png_raw=true\" width=500px></center>\\n\\n\\nSo far in this program, you have worked in Google Colab, which provides a cloud-based coding environment. \\n- We will transition to using a Python environment stored on your local machine. \\n    - Jupyter Notebook will replace Google Colab. \\n    - GitHub Desktop will sync your work.\\n___\\n\\n## Installation Timeline/Deadline\\n\\n- In the Data Enrichment course, you will need to submit a CORE ASSIGNMENT containing the error-free test notebook that is included within these instructions. This will ensure that you have the tools you will need to be successful.\\n- We recommend you begin the step-by-step installation AS SOON AS POSSIBLE to ensure you have time to troubleshoot any difficulties you may encounter.\\n- These steps should take ~30-90 minutes, depending on the speed of your machine and internet connection.\\n\\n- If you run into issues during installation, see the \"How to Ask for Help\" secton at the bottom of this page. \\n\\n- The [dojo-env-setup repository](https://github.com/coding-dojo-data-science/dojo-env-setup), which you will clone in  Step 2.1, contains a backup copy of the entire set of instructions on the README, for convenience.\\n\\n***Note: if you previously installed the dojo-env and are upgrading to the current version, please see the \"Updating to New dojo-env\" instructions***\\n\\n<hr>\\n\\n## Installation Overview:\\n\\n<img src=\"images/1693253644__PythonInstallationforDSOverviewv234.png\">\\n\\nBy the end of this installation, you will:\\n\\n**1) Install or Set Up a Terminal application:**\\n\\n- The terminal is the primary application you will use to execute programming commands.\\n    - Mac and Linux users should already have a Terminal application installed.\\n    - Windows users will install additional software (Windows Terminal + Git for Windows)\\n\\n**2) Install a Python distribution:**\\n\\nThe foundation/infrastructure for installing our custom Python environment.\\n- Windows and Intel-Macs will install Anaconda. \\n- Apple Chip Macs will installing a lightweight alternative called miniforge. \\n\\n**3) Install GitHub Desktop**\\n\\n- Desktop application for working with and managing git repositories. \\n\\n**4) Create our custom Python environment (dojo-env)**\\n\\n- An environment is a bundle of specific versions of python packages that are mutually compatible.\\n- We will install our custom `dojo-env`` Python environment, located in the [dojo-env-setup repository](https://github.com/coding-dojo-data-science/dojo-env-setup).  \\n\\n**5) Test & customize the environment using Jupyter Notebook**\\n\\n- Jupyter Notebook will replace Google Colab on your local computer.\\n\\n**6) Install Visual Studio Code** as a secondary code editor.\\n\\n- A special text editor designed for code. It has many extensions and languages available.\\n\\n- We will use it to edit special files later in the course, but it can also run notebooks too!\\n\\n<img src=\"images/1693253662__PythonInstallationforDSOverviewv235.png\">\\n\\n___\\n\\n# OS-Specific Instructions\\n\\n**Please make sure you select the correct instructions page, based on your computer\\'s operating system!**\\n\\n### Supported Operating Systems\\n\\nWe have prepared environment files (.yml files) for 4 different OS configurations:\\n- Windows (10 & 11)\\n- Mac (with Intel Processors)†\\n- Mac (Apple Chips)†\\n\\n___\\n\\n### †Mac users - if you don\\'t know which type of Mac you have :\\n\\n**Check the \"About this Mac\" screen for your computer:**\\n\\n- Click on the Apple symbol in the top-left corner of your screen >  Click \"About This Mac\".\\n\\n- A window with your computer\\'s specs will appear like the one in the screenshots below, depending on how which version of macOS you have installed. \\n\\n<left>\\n<img src=\"images/1691528956__aboutthismacintelannotated.png\" width=300px></left>\\n<right>\\n<img src=\"images/1691528713__aboutthismac2023annotated.png\" width=200px></right>\\n\\n\\n- **If it has a \"Processor\" line that says \"Intel\"** you should follow the Instructions: Mac (Intel Processor).\\n\\n- **If it has a \"Chip\" line that says \"Apple\"** then you should follow the Instructions: Mac (Apple Chip).\\n\\n\\n## Installation Instructions Pages\\n\\n> **Please review the How to Ask for Help Section At the Bottom of this page if you get stuck!**\\n\\nFor New Installations:\\n- [Instructions for Mac (Intel Processors)](https://hackmd.io/@jirvingphd/dojo-env-mac-intel)\\n- [Instructions for Mac (Apple Chips)](https://hackmd.io/@jirvingphd/dojo-env-mac-apple-chip)\\n- [Instructions for Windows](https://hackmd.io/@jirvingphd/dojo-env-windows)\\n\\nFor updating Pre-Existing Install: \\n- [Updating to a New dojo-env](https://hackmd.io/@jirvingphd/update-dojo-env)\\n___\\n\\n## How to Ask for Help\\n\\n**If you encounter an error during installation:**\\n***You may continue to work through the first half of the data enrichment week 1 lessons & assignments while troubleshooting your local installation!*** The first lessons and assignments can be completed using Google Colab.\\n\\n- **First, read a little further down in the instructions** to make sure we do not already address the error message that you ran into.\\n\\n- **Second, please check the \"Troubleshooting\" chapter on the learnig platform for a lesson that mentions your problem.** about the problem you are running into. (The Troubleshooting section is the 3rd chapter in this course - see the screenshot below)\\n\\n    <img src=\"images/1658334627__Troubleshooting-chapter.png\" width=200px>\\n\\n- **Third, reach out on the \\\\#[ds-python-installation Discord channel](https://discord.com/channels/738494436467539968/1099094868762042400) with the following info:**\\n\\n    - A) Which step are you on? (e.g. Step 2.3.3 Confirm the env was created)\\n    - B) Which OS you are using (e.g. Windows 10, Windows 11, Mac with an mchip, Mac with an Intel processor, etc.)\\n    - C) Let us know if you\\'ve previously installed an older version of Python.\\n    - D) Attach your copy of the  environment tester notebook and the FINAL_REPORT.txt files.\\n    - E) Include any additional screenshots of the error/issue you are running into, whenever possible.\\n    - F) Add any additional details or info you think may be helpful for us to know.\\n        - For example:\\n            - \"My computer is really old and I think that may be part of the problem.\"\\n            - \"I share this computer with someone else who also uses python\"\\n            - \"This is my work computer and I am not an administrator.\" etc\\n\\n- **Fourth, if you do not receive a response by the end of the day on Discord, please email your instructor with the same information.**\\n\\n    - An instructor or TA will get back to you within 1 business day with the next steps for you to try.\\n    - You will most likely need to set up a Zoom call and share your screen for us to help.\\n\\n> **Now, navigate to the correct instructions page, based on your operating system, as explained above:**\\n\\n\\n<!-- #### **Note to Linux Users: \\n\\nOur Linux installation instructions are still in beta. While they have successfully been installed on students\\' Linux machines, we currently do not have a Linux machine available for troubleshooting.\\n\\n<hr> -->\\n\\n___\\n\\n# APPENDIX\\n\\n## Links of Interest\\n> 08/23/23 Note: Switch to the `v2023` branch in the dojo-env-setup repo in GitHub Desktop for the correct env files. \\n- [Overview Page(This Page)](https://hackmd.io/@jirvingphd/dojo-env-overview)\\n- [dojo-env-setup repo](https://github.com/coding-dojo-data-science/dojo-env-setup)\\n- [Instructions for Mac (Intel Processors)](https://hackmd.io/@jirvingphd/dojo-env-mac-intel)\\n- [Instructions for Mac (Apple Chips)](https://hackmd.io/@jirvingphd/dojo-env-mac-apple-chip)\\n- [Instructions for Windows](https://hackmd.io/@jirvingphd/dojo-env-windows)\\n- [Updating to a New dojo-env](https://hackmd.io/@jirvingphd/update-dojo-env)\\n\\n\\n- [conda: Mangaging Environments - CheatSheet](https://conda.io/projects/conda/en/latest/user-guide/tasks/manage-environments.html#activating-an-environment)\\n\\n<!-- - [Working Locally (PDF[`COMING SOON!`])]() -->\\n\\n\\n\\n## Reference: Helpful Commands\\n\\n### Installation Commands\\n\\n- To activate dojo-env and add it to Jupyter (after installation)\\n\\n```bash\\nconda activate dojo-env               \\npython -m ipykernel install --user --name dojo-env --display-name \"Python (dojo-env)\"\\n```\\n\\n- To re-add `conda` command:\\n\\n```bash\\n# Generic command (doesn\\'t always work)\\nconda init\\n\\n# Windows\\nconda init  bash\\n\\n# Mac \\nconda init zsh\\n```\\n\\n### Uninstall commands\\n\\n#### Uninstall dojo-env\\n\\n- To remove the current dojo-env:\\n\\n```bash\\nconda activate base                             \\nconda remove --name dojo-env --all\\n```\\n\\n- Then answer `y` for yes\\n\\n------\\n\\n### Setting Default Env\\n\\n#### For Mac Users (using the default terminal - zsh)\\n\\n```bash\\ntouch ~/.zshrc\\necho \"conda activate dojo-env\" >> ~/.zshrc\\necho \\'alias jnb=\"jupyter notebook\"\\' >> ~/.zshrc\\necho \\'alias lab=\"jupyter lab\"\\' >> ~/.zshrc\\n```\\n\\n#### For Windows Users (or mac users who switched to bash)\\n\\n- To set dojo-env as the default Python env and add Jupyter shortcuts\\n\\nNote: you may need to replace `~` with the full path to your user folder. (e.g. \"/Users/codingdojo/.bash_profile\" instead of \"~/.bash_profile\")\\n\\n```bash\\ntouch ~/.bash_profile\\necho \"conda activate dojo-env\" >> ~/.bash_profile\\necho \\'alias jnb=\"jupyter notebook\"\\' >> ~/.bash_profile\\necho \\'alias lab=\"jupyter lab\"\\' >> ~/.bash_profile\\n```\\n\\n------\\n\\n### Managing Jupyter Kernels\\n\\n- To see the list of kernels that jupyter will display as options:\\n\\n```bash\\njupyter kernelspec list \\n```\\n\\n- To remove a kernel that no longer exists (replace `<kernel name>` with name of kernel from the jupyter kernelspec list command ):\\n\\n```bash\\njupyter kernelspec remove <kernel name>\\n```\\n\\n```bash\\n# Example:\\njupyter kernelspec remove dojo-env-old\\n```\\n\\n',\n",
       " 'title': 'Python Installation for Data Science - Overview',\n",
       " 'url': 'https://coding-dojo-data-science.github.io/dojo-env-setup'}"
      ]
     },
     "execution_count": 32,
     "metadata": {},
     "output_type": "execute_result"
    }
   ],
   "source": [
    "details = FILES[key]\n",
    "details"
   ]
  },
  {
   "cell_type": "markdown",
   "metadata": {},
   "source": [
    "```\n",
    "___\n",
    "layout: page\n",
    "title: \"PAGE-TITLE\"\n",
    "permalink: /URL-PATH\n",
    "___\n",
    "```"
   ]
  },
  {
   "cell_type": "code",
   "execution_count": 33,
   "metadata": {},
   "outputs": [
    {
     "name": "stdout",
     "output_type": "stream",
     "text": [
      "___\n",
      "layout: page \n",
      "title: \"Python Installation for Data Science - Overview\" \n",
      "permalink: https://coding-dojo-data-science.github.io/dojo-env-setup\n",
      "___\n"
     ]
    }
   ],
   "source": [
    "header = f'___\\nlayout: page \\ntitle: \"{details[\"title\"]}\" \\npermalink: {details[\"url\"]}\\n___'\n",
    "print(header)"
   ]
  },
  {
   "cell_type": "code",
   "execution_count": 126,
   "metadata": {},
   "outputs": [],
   "source": [
    "# def make_header(details):\n",
    "# \theader = f\"\"\"___\n",
    "# \tlayout: page\n",
    "# \ttitle: \"{details[\"title\"]}\"\n",
    "# \tpermalink: {details[\"url\"]}\n",
    "# \t\"\"\"\n",
    "# \theader = header.replace('\\t','')\n",
    "#     # header = f'___\\nlayout: page \\ntitle: \"{details[\"title\"]}\" \\npermalink: {details[\"url\"]}\\n___'\n",
    "# \treturn header +'\\n'\n",
    "\n",
    "def make_header(details,out_folder):\n",
    "    title = details['title']\n",
    "    out_folder = out_folder\n",
    "    header = \"| layout | title | parent| nav_order |\"\n",
    "    header+='\\n' \n",
    "    header+=\"| ------ | -------------------------- | -------------------------------- | --------- |\"\n",
    "    header+=f\"\\n| page   |{title} | {out_folder} | 4         |\"\n",
    "    return header"
   ]
  },
  {
   "cell_type": "code",
   "execution_count": 127,
   "metadata": {},
   "outputs": [],
   "source": [
    "\n",
    "# header = \"| layout | title                      | parent                           | nav_order |\"\n",
    "# header+='\\n' \n",
    "# header+=\"| ------ | -------------------------- | -------------------------------- | --------- |\"\n",
    "# header+=f\"\\n| page   |{title} | {out_folder} | 4         |\"\n",
    "# print(header)"
   ]
  },
  {
   "cell_type": "code",
   "execution_count": 130,
   "metadata": {},
   "outputs": [
    {
     "data": {
      "text/markdown": [
       "| layout | title | parent| nav_order |\n",
       "| ------ | -------------------------- | -------------------------------- | --------- |\n",
       "| page   |Mac_Apple Chip_Installation Overview | ../_posts/ | 4         |"
      ],
      "text/plain": [
       "<IPython.core.display.Markdown object>"
      ]
     },
     "execution_count": 130,
     "metadata": {},
     "output_type": "execute_result"
    }
   ],
   "source": [
    "test_header = make_header(FILES['Mac_Apple Chip_Installation Overview'], out_folder)\n",
    "Markdown(test_header)"
   ]
  },
  {
   "cell_type": "code",
   "execution_count": 103,
   "metadata": {},
   "outputs": [],
   "source": [
    "from IPython.display import display, Markdown"
   ]
  },
  {
   "cell_type": "code",
   "execution_count": 104,
   "metadata": {},
   "outputs": [],
   "source": [
    "output_text  = header+\"\\n\" + details['text']\n",
    "# display(Markdown(output_text[:1000]))"
   ]
  },
  {
   "cell_type": "markdown",
   "metadata": {},
   "source": [
    "# Saving the final files to _posts"
   ]
  },
  {
   "cell_type": "code",
   "execution_count": 105,
   "metadata": {},
   "outputs": [
    {
     "data": {
      "text/plain": [
       "'../../docs/_source/instructions-mac-mchip-v23_Repo.md'"
      ]
     },
     "execution_count": 105,
     "metadata": {},
     "output_type": "execute_result"
    }
   ],
   "source": [
    "# \n",
    "orig_fname = FILES['Mac_Apple Chip_Installation Overview']['file'] \n",
    "orig_fname"
   ]
  },
  {
   "cell_type": "markdown",
   "metadata": {},
   "source": [
    "> CHANGER OUTFOLDER!"
   ]
  },
  {
   "cell_type": "code",
   "execution_count": 106,
   "metadata": {},
   "outputs": [
    {
     "data": {
      "text/plain": [
       "'../_posts/instructions-mac-mchip-pages.md'"
      ]
     },
     "execution_count": 106,
     "metadata": {},
     "output_type": "execute_result"
    }
   ],
   "source": [
    "fname_out = out_folder + orig_fname.split('source/')[-1]\n",
    "fname_out =fname_out.replace('-v23_Repo','-pages')\n",
    "fname_out"
   ]
  },
  {
   "cell_type": "markdown",
   "metadata": {},
   "source": [
    "## Full Workflow"
   ]
  },
  {
   "cell_type": "code",
   "execution_count": 107,
   "metadata": {},
   "outputs": [],
   "source": [
    "import os, glob\n",
    "import re\n",
    "\n"
   ]
  },
  {
   "cell_type": "code",
   "execution_count": 134,
   "metadata": {},
   "outputs": [],
   "source": [
    "# PARAMS TO SET\n",
    "base_url = \"https://coding-dojo-data-science.github.io\"\n",
    "out_folder = \"../Instructions/\"\n",
    "\n",
    "links_dict = {'overview':'dojo-env-setup',\n",
    "              'windows':'dojo-env-windows',\n",
    "              'apple chip': 'dojo-env-mac-apple-chip',\n",
    "              'apple intel':'dojo-env-mac-intel',\n",
    "              'updat':'update-dojo-env'}\n",
    "\n",
    "order_dict = {'overview':1,\n",
    "              'windows':2,\n",
    "              'apple intel':3,\n",
    "              'apple chip':4,\n",
    "              'updat':5}"
   ]
  },
  {
   "cell_type": "code",
   "execution_count": 135,
   "metadata": {},
   "outputs": [],
   "source": [
    "\n",
    "def extract_first_h1(text):\n",
    "    # Remove anything before the first newline character\n",
    "    # text = text.split(\"\\n\", 1)[0]\n",
    "    repl_parentheses = \"_\"\n",
    "    to_replace = {'*':'',\n",
    "                  ' (':repl_parentheses,\n",
    "                  ') ':repl_parentheses,\n",
    "                  '(':repl_parentheses,\n",
    "                  ')':repl_parentheses,\n",
    "                  '  ':'',\n",
    "                  }\n",
    "    for char,replacement in to_replace.items():\n",
    "        text = text.replace(char,replacement)\n",
    "    \n",
    "    # The pattern looks for a line that starts with '# ' and captures everything after that until the end of the line.\n",
    "    pattern = r\"^# (.+)$\"\n",
    "    \n",
    "    # Use re.search to find the first match in the text\n",
    "    match = re.search(pattern, text, re.MULTILINE)\n",
    "    \n",
    "    # If a match is found, return the captured group, otherwise return None\n",
    "    return match.group(1) if match else None\n",
    "\n",
    "\n",
    "# def make_header(details):\n",
    "# \theader = f'___\\nlayout: page \\ntitle: \"{details[\"title\"]}\" \\npermalink: {details[\"url\"]}\\n___'\n",
    "# \treturn header +'\\n'\n",
    "\n",
    "\n",
    "def make_header(details,out_folder):\n",
    "    title = details['title']\n",
    "    out_folder = out_folder\n",
    "    order = details['order']\n",
    "    header = \"| layout | title | parent| nav_order |\"\n",
    "    header+='\\n' \n",
    "    header+=\"| ------ | -------------------------- | -------------------------------- | --------- |\"\n",
    "    header+=f\"\\n| page   |{title} | {out_folder} | 4         |\"\n",
    "    return header"
   ]
  },
  {
   "cell_type": "code",
   "execution_count": 136,
   "metadata": {},
   "outputs": [
    {
     "data": {
      "text/plain": [
       "['../../docs/_source/Installation Overview-v23_Repo.md',\n",
       " '../../docs/_source/Instructions-updating-dojo-env-v23_Repo.md',\n",
       " '../../docs/_source/instructions-mac-intel-v23_Repo.md',\n",
       " '../../docs/_source/instructions-mac-mchip-v23_Repo.md',\n",
       " '../../docs/_source/instructions-windows-v23_Repo.md']"
      ]
     },
     "execution_count": 136,
     "metadata": {},
     "output_type": "execute_result"
    }
   ],
   "source": [
    "# Get list of files\n",
    "pages_files = sorted(glob.glob(\"../../**/*_Repo.md\", recursive=True))\n",
    "pages_files"
   ]
  },
  {
   "cell_type": "code",
   "execution_count": 137,
   "metadata": {},
   "outputs": [
    {
     "data": {
      "text/plain": [
       "{'overview': 'dojo-env-setup',\n",
       " 'windows': 'dojo-env-windows',\n",
       " 'apple chip': 'dojo-env-mac-apple-chip',\n",
       " 'apple intel': 'dojo-env-mac-intel',\n",
       " 'updat': 'update-dojo-env'}"
      ]
     },
     "execution_count": 137,
     "metadata": {},
     "output_type": "execute_result"
    }
   ],
   "source": [
    "links_dict"
   ]
  },
  {
   "cell_type": "code",
   "execution_count": 140,
   "metadata": {},
   "outputs": [
    {
     "name": "stdout",
     "output_type": "stream",
     "text": [
      "Python Installation for Data Science - Overview\n",
      "Updating to a new dojo-env\n",
      "Mac_Intel_Installation Overview\n",
      "Mac_Apple Chip_Installation Overview\n",
      "Windows Installation Instructions\n"
     ]
    },
    {
     "data": {
      "text/plain": [
       "dict_keys(['Python Installation for Data Science - Overview', 'Updating to a new dojo-env', 'Mac_Intel_Installation Overview', 'Mac_Apple Chip_Installation Overview', 'Windows Installation Instructions'])"
      ]
     },
     "execution_count": 140,
     "metadata": {},
     "output_type": "execute_result"
    }
   ],
   "source": [
    "FILES = {}\n",
    "for page in pages_files:\n",
    "    page_file = Path(page)\n",
    "    txt = page_file.read_text()\n",
    "    title = extract_first_h1(txt)\n",
    "    \n",
    "    details = {'file':page,\n",
    "                    'text':txt,\n",
    "                    'title':title}\n",
    "    \n",
    "    for page_type, url_end in links_dict.items():\n",
    "        if page_type.lower() in title.lower():\n",
    "            url = base_url +'/' + url_end\n",
    "            details['url'] = url\n",
    "            \n",
    "    \n",
    "    for page_type, order in order_dict.items():\n",
    "        if page_type.lower() in title.lower():\n",
    "            url = base_url +'/' + url_end\n",
    "            details['order'] = order\n",
    "                  \n",
    "            \n",
    "    if 'url' not in details:\n",
    "        print(details.keys())\n",
    "        print(details['title'])\n",
    "        print(details)\n",
    "        raise Exception\n",
    "\n",
    "    \n",
    "    header = make_header(details,out_folder)\n",
    "    # details['header'] = header\n",
    "    \n",
    "    output_text  = header+\"\\n\" + details['text']\n",
    "    details['output_text'] = output_text\n",
    "\t\t\t# print(url)\n",
    "    \n",
    "    FILES[title] = details\n",
    "    print(title)\n",
    "FILES.keys()"
   ]
  },
  {
   "cell_type": "code",
   "execution_count": 141,
   "metadata": {},
   "outputs": [],
   "source": [
    "\n",
    "\n",
    "for title, details in FILES.items():\n",
    "    orig_fname = details['file']\n",
    "    output_text = details['output_text']\n",
    "    # # Get header\n",
    "    # header = make_header(details)\n",
    "    # output_text  = header+\"\\n\" + details['text']\n",
    "    # Make final file name\n",
    "    fname_out = out_folder + orig_fname.split('source/')[-1]\n",
    "    fname_out =fname_out.replace('-v23_Repo','-pages').replace('.md','.markdown')\n",
    "    \n",
    "\n",
    "    with open(fname_out,'w') as f:\n",
    "        f.write(output_text)\n",
    "     \n",
    "\n"
   ]
  },
  {
   "cell_type": "markdown",
   "metadata": {},
   "source": [
    "## Copy images to sub-folder in posts (i know not ideal)"
   ]
  },
  {
   "cell_type": "code",
   "execution_count": 142,
   "metadata": {},
   "outputs": [
    {
     "data": {
      "text/plain": [
       "'../_posts/images/'"
      ]
     },
     "execution_count": 142,
     "metadata": {},
     "output_type": "execute_result"
    }
   ],
   "source": [
    "import shutil\n",
    "img_folder = out_folder+'images/'\n",
    "img_folder\n"
   ]
  },
  {
   "cell_type": "code",
   "execution_count": 143,
   "metadata": {},
   "outputs": [],
   "source": [
    "img_src_folder = \"images/\""
   ]
  },
  {
   "cell_type": "code",
   "execution_count": 144,
   "metadata": {},
   "outputs": [
    {
     "data": {
      "text/plain": [
       "'../_posts/images/'"
      ]
     },
     "execution_count": 144,
     "metadata": {},
     "output_type": "execute_result"
    }
   ],
   "source": [
    "shutil.copytree(img_src_folder,img_folder,dirs_exist_ok=True)"
   ]
  },
  {
   "cell_type": "code",
   "execution_count": null,
   "metadata": {},
   "outputs": [],
   "source": []
  }
 ],
 "metadata": {
  "kernelspec": {
   "display_name": "Python (dojo-env)",
   "language": "python",
   "name": "dojo-env"
  },
  "language_info": {
   "codemirror_mode": {
    "name": "ipython",
    "version": 3
   },
   "file_extension": ".py",
   "mimetype": "text/x-python",
   "name": "python",
   "nbconvert_exporter": "python",
   "pygments_lexer": "ipython3",
   "version": "3.10.10"
  },
  "orig_nbformat": 4
 },
 "nbformat": 4,
 "nbformat_minor": 2
}
