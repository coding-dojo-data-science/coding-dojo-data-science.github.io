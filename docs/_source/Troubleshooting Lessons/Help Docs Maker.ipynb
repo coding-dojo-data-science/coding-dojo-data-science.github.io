{
 "cells": [
  {
   "cell_type": "markdown",
   "id": "a6a22844",
   "metadata": {},
   "source": [
    "# README Maker"
   ]
  },
  {
   "cell_type": "markdown",
   "id": "78b3b4da",
   "metadata": {},
   "source": [
    "- This notebook will combine all of the html backup copies of the Troubleshooting chapter lessons into 1 doc.\n"
   ]
  },
  {
   "cell_type": "markdown",
   "id": "5c8d12ce",
   "metadata": {},
   "source": [
    "# Code"
   ]
  },
  {
   "cell_type": "code",
   "execution_count": 34,
   "id": "ccefed08",
   "metadata": {},
   "outputs": [],
   "source": [
    "# import os,glob\n",
    "# import pandas as pd\n",
    "# import numpy as np\n",
    "# from IPython.display import display, HTML,Markdown"
   ]
  },
  {
   "cell_type": "code",
   "execution_count": 35,
   "id": "120f9de5",
   "metadata": {},
   "outputs": [],
   "source": [
    "# FOLDER = \"../docs/\"\n",
    "# OUTPUT_FILE = \"README_lessons.html\"\n",
    "# sorted(os.listdir(FOLDER))"
   ]
  },
  {
   "cell_type": "code",
   "execution_count": 36,
   "id": "69ad09c9",
   "metadata": {},
   "outputs": [],
   "source": [
    "# html_files = sorted(glob.glob(FOLDER+\"*.html\"))\n",
    "# html_files"
   ]
  },
  {
   "cell_type": "markdown",
   "id": "50171447",
   "metadata": {},
   "source": [
    "## Combine Into 1 HTML File for README"
   ]
  },
  {
   "cell_type": "code",
   "execution_count": 37,
   "id": "52044180",
   "metadata": {},
   "outputs": [],
   "source": [
    "# ## append all html file contents to 1 list \n",
    "# html_combined = [\"\"\"<!DOCTYPE html>\n",
    "# <html><body><h1>Installing Python Locally</h1>\"\"\"]\n",
    "# html_combined.append(f\"<p><strong>If the images below are not visible:\\\n",
    "# please clone repo and then open <a href='./admin/{OUTPUT_FILE}' target='_blank' rel='noopener noreferrer'>this file</a> in your web browser.</p></strong>\")\n",
    "# # html_combined.append(f\"\">)\n",
    "\n",
    "# for file in html_files:\n",
    "    \n",
    "#     name = os.path.basename(file).replace(\"_\",' ').replace(\".html\",\"\").title()\n",
    "#     with open(file) as f:\n",
    "#         content = f.read()\n",
    "    \n",
    "#     html_combined.append(f\"<hr></hr>\")\n",
    "#     html_combined.append(content)\n",
    "    \n",
    "# html_combined.append(\"</body></html>\")\n",
    "# ## join using horizontal line\n",
    "# final = \"<br>\".join(html_combined)"
   ]
  },
  {
   "cell_type": "code",
   "execution_count": 38,
   "id": "0890ff8c",
   "metadata": {},
   "outputs": [],
   "source": [
    "# HTML(final)"
   ]
  },
  {
   "cell_type": "code",
   "execution_count": 39,
   "id": "5c5038cb",
   "metadata": {},
   "outputs": [],
   "source": [
    "# ## save as README.lessons\n",
    "# with open(OUTPUT_FILE,'w') as f:\n",
    "#     f.write(final)"
   ]
  },
  {
   "cell_type": "code",
   "execution_count": null,
   "id": "3526ff99",
   "metadata": {},
   "outputs": [],
   "source": []
  },
  {
   "cell_type": "markdown",
   "id": "2c22b63c",
   "metadata": {},
   "source": [
    "# 2. Fixing AWS images [WIP]\n",
    "- 07/08/22"
   ]
  },
  {
   "cell_type": "code",
   "execution_count": 40,
   "id": "4f1c1adb",
   "metadata": {},
   "outputs": [],
   "source": [
    "# test_file = html_files[1]\n",
    "# test_file"
   ]
  },
  {
   "cell_type": "code",
   "execution_count": 41,
   "id": "15ca1e6c",
   "metadata": {},
   "outputs": [],
   "source": [
    "# with open(test_file) as f:\n",
    "#     raw_html = f.read()"
   ]
  },
  {
   "cell_type": "code",
   "execution_count": 42,
   "id": "b16c42b9",
   "metadata": {},
   "outputs": [],
   "source": [
    "# from bs4 import BeautifulSoup\n",
    "# soup = BeautifulSoup(raw_html)\n",
    "\n",
    "# all_links = soup.find_all(\"img\")\n",
    "# all_links"
   ]
  },
  {
   "cell_type": "code",
   "execution_count": 43,
   "id": "eb5aa13b",
   "metadata": {},
   "outputs": [],
   "source": [
    "# # test link\n",
    "# link = all_links[0]\n",
    "# link"
   ]
  },
  {
   "cell_type": "code",
   "execution_count": 44,
   "id": "025cbf61",
   "metadata": {},
   "outputs": [],
   "source": [
    "# link['src']#.attrs"
   ]
  },
  {
   "cell_type": "code",
   "execution_count": 45,
   "id": "c44a50f2",
   "metadata": {},
   "outputs": [],
   "source": [
    "# from copy import deepcopy,copy\n",
    "# new_html = copy(raw_html)"
   ]
  },
  {
   "cell_type": "markdown",
   "id": "d5bdfa52",
   "metadata": {},
   "source": [
    "- Try to download the image and save it to images"
   ]
  },
  {
   "cell_type": "code",
   "execution_count": 46,
   "id": "8e2f1233",
   "metadata": {},
   "outputs": [],
   "source": [
    "# ## split name on dunder to get fname\n",
    "# split = link['src'].split('__')\n",
    "# fname = split[1].replace(' ','_')\n",
    "# fname"
   ]
  },
  {
   "cell_type": "code",
   "execution_count": 47,
   "id": "793560f1",
   "metadata": {},
   "outputs": [],
   "source": [
    "# ## Make new folder in images for lp\n",
    "# img_folder = \"../images/lp/\"\n",
    "# os.makedirs(img_folder,exist_ok=True)"
   ]
  },
  {
   "cell_type": "code",
   "execution_count": 48,
   "id": "4ddfb5e5",
   "metadata": {},
   "outputs": [],
   "source": [
    "# img_folder+fname"
   ]
  },
  {
   "cell_type": "code",
   "execution_count": 49,
   "id": "637f9f40",
   "metadata": {},
   "outputs": [],
   "source": [
    "# import requests, urllib\n",
    "# resp = requests.get(link['src'])\n",
    "# fname = link['src'].split('__')[1].replace(' ','_')\n",
    "\n",
    "# new_fname = img_folder+fname\n",
    "# with open(new_fname, 'wb') as f:\n",
    "#     f.write(resp.content)\n",
    "    \n",
    "# ## replace link in new_html\n",
    "# new_html.replace(link['src'], new_fname)"
   ]
  },
  {
   "cell_type": "code",
   "execution_count": 50,
   "id": "1b5e4c82",
   "metadata": {},
   "outputs": [],
   "source": [
    "# import matplotlib.pyplot as plt\n",
    "# plt.imshow(plt.imread(img_folder+fname))"
   ]
  },
  {
   "cell_type": "code",
   "execution_count": 51,
   "id": "1eb5cd6a",
   "metadata": {},
   "outputs": [],
   "source": [
    "# soup = BeautifulSoup(raw_html)\n",
    "# all_links = soup.find_all(\"img\")\n",
    "\n",
    "# ## Make new_html to update\n",
    "# new_html = copy(raw_html)"
   ]
  },
  {
   "cell_type": "code",
   "execution_count": 52,
   "id": "818982ad",
   "metadata": {},
   "outputs": [],
   "source": [
    "# ## Loop through all images\n",
    "# for link in all_links:\n",
    "#     try:\n",
    "#         ## Get image\n",
    "#         resp = requests.get(link['src'])\n",
    "#         ## make new fname\n",
    "#         fname = link['src'].split('__')[1].replace(' ','_')\n",
    "#         new_fname = img_folder+fname\n",
    "\n",
    "#         ## save binary content (img) to disk\n",
    "#         with open(new_fname, 'wb') as f:\n",
    "#             f.write(resp.content)\n",
    "\n",
    "#         ## Replace original link in html with new file\n",
    "#         ## replace link in new_html\n",
    "#         new_html = new_html.replace(link['src'], new_fname)\n",
    "#     except Exception as e:\n",
    "#         print(f'[!] Error for img \"{new_fname}\":')\n",
    "#         print(\"    \",e)"
   ]
  },
  {
   "cell_type": "markdown",
   "id": "e04e9af7",
   "metadata": {},
   "source": [
    "> I realized I should replace the images in the original HTML files first, not the combined. This will allow me to make the github pages version as well"
   ]
  },
  {
   "cell_type": "code",
   "execution_count": 53,
   "id": "41774cdb",
   "metadata": {},
   "outputs": [],
   "source": [
    "# with open ('Instructions.html','w') as f:\n",
    "#     f.write(new_html)"
   ]
  },
  {
   "cell_type": "code",
   "execution_count": 54,
   "id": "ff2d72a8",
   "metadata": {},
   "outputs": [],
   "source": [
    "# with open (\"Instructions.html\") as f:\n",
    "#     display(HTML(f.read()))"
   ]
  },
  {
   "cell_type": "markdown",
   "id": "16142f00",
   "metadata": {},
   "source": [
    "# FINAL COMBINED WORKFLOW"
   ]
  },
  {
   "cell_type": "code",
   "execution_count": null,
   "id": "567fed98",
   "metadata": {},
   "outputs": [],
   "source": []
  },
  {
   "cell_type": "code",
   "execution_count": 55,
   "id": "fb9667e7",
   "metadata": {
    "ExecuteTime": {
     "end_time": "2022-07-15T19:25:41.336887Z",
     "start_time": "2022-07-15T19:25:41.329418Z"
    }
   },
   "outputs": [],
   "source": [
    "import os,glob\n",
    "import pandas as pd\n",
    "import numpy as np\n",
    "from IPython.display import display, HTML,Markdown\n",
    "from bs4 import BeautifulSoup\n",
    "import requests\n",
    "from copy import deepcopy,copy"
   ]
  },
  {
   "cell_type": "code",
   "execution_count": 56,
   "id": "05a232da",
   "metadata": {
    "ExecuteTime": {
     "end_time": "2022-07-15T19:20:39.548411Z",
     "start_time": "2022-07-15T19:20:39.537732Z"
    }
   },
   "outputs": [
    {
     "data": {
      "text/plain": [
       "'/Users/codingdojo/Documents/GitHub/_CURRICULUM/dojo-env-setup/Troubleshooting/help-docs'"
      ]
     },
     "execution_count": 56,
     "metadata": {},
     "output_type": "execute_result"
    }
   ],
   "source": [
    "os.path.abspath(os.curdir)"
   ]
  },
  {
   "cell_type": "code",
   "execution_count": 57,
   "id": "26881b7a",
   "metadata": {
    "ExecuteTime": {
     "end_time": "2022-07-15T19:20:57.027316Z",
     "start_time": "2022-07-15T19:20:57.017516Z"
    }
   },
   "outputs": [
    {
     "data": {
      "text/plain": [
       "['./1 jupyter missing kernel Python (dojo-env)-fix.html',\n",
       " './1 jupyter missing kernel Python (dojo-env).html',\n",
       " './2 conda activate error-gitbash-fix.html',\n",
       " './2 conda activate error-gitbash.html',\n",
       " './3 Code command not working - mac-fix.html',\n",
       " './3 Code command not working - mac.html',\n",
       " './4 GitBash Could not fork child process-fix.html',\n",
       " './4 GitBash Could not fork child process.html',\n",
       " './5 Installing Graphviz - windows-fix.html',\n",
       " './5 Installing Graphviz - windows.html',\n",
       " './6 Reinstalling dojo-env-fix.html',\n",
       " './6 Reinstalling dojo-env.html',\n",
       " './7 Uninstall Anaconda Completely-fix.html',\n",
       " './7 Uninstall Anaconda Completely.html',\n",
       " './8 GitBash opens in the wrong folder.html']"
      ]
     },
     "execution_count": 57,
     "metadata": {},
     "output_type": "execute_result"
    }
   ],
   "source": [
    "FOLDER = \"./\"\n",
    "OUTPUT_FILE = \"../Troubleshooting_Lessons.html\"\n",
    "sorted(os.listdir(FOLDER))\n",
    "\n",
    "html_files = sorted(glob.glob(FOLDER+\"*.html\"))\n",
    "html_files"
   ]
  },
  {
   "cell_type": "code",
   "execution_count": 58,
   "id": "6a9be745",
   "metadata": {
    "ExecuteTime": {
     "end_time": "2022-07-15T19:22:00.343367Z",
     "start_time": "2022-07-15T19:22:00.326211Z"
    }
   },
   "outputs": [],
   "source": [
    "def replace_s3_img_html(html_fname,img_folder = \"../images/lp/\",sffx='-fix'):\n",
    "    if html_fname.endswith(f\"{sffx}.html\"):\n",
    "        print(f\"- Files {html_fname} already has the suffix for fixed files. Skipping...\")\n",
    "        return \n",
    "    ## Make new folder in images for lp\n",
    "    os.makedirs(img_folder,exist_ok=True)\n",
    "    \n",
    "    ## Load in html file and make into soup\n",
    "    with open(html_fname) as f:\n",
    "        raw_html = f.read()\n",
    "\n",
    "    from bs4 import BeautifulSoup\n",
    "    soup = BeautifulSoup(raw_html)\n",
    "\n",
    "    all_links = soup.find_all(\"img\")\n",
    "\n",
    "    \n",
    "    soup = BeautifulSoup(raw_html)\n",
    "    all_links = soup.find_all(\"img\")\n",
    "\n",
    "    ## Make new_html to update\n",
    "    new_html = copy(raw_html)\n",
    "    \n",
    "    for link in all_links:\n",
    "        try:\n",
    "            ## Get image\n",
    "            resp = requests.get(link['src'])\n",
    "            ## make new fname\n",
    "            fname = link['src'].split('__')[1].replace(' ','_')\n",
    "            new_fname = img_folder+fname\n",
    "\n",
    "            ## save binary content (img) to disk\n",
    "            with open(new_fname, 'wb') as f:\n",
    "                f.write(resp.content)\n",
    "\n",
    "            ## Replace original link in html with new file\n",
    "            ## replace link in new_html\n",
    "            new_html = new_html.replace(link['src'], new_fname)\n",
    "        except Exception as e:\n",
    "            print(f\"[!] Error for file:{html_fname} (img '{link['src']}')\")\n",
    "            print(\"   -\",e)\n",
    "\n",
    "    # fix fname \n",
    "    fixed_fname= html_fname.replace(\".html\",f'{sffx}.html')\n",
    "    with open(fixed_fname,'w') as f:\n",
    "        f.write(new_html)"
   ]
  },
  {
   "cell_type": "code",
   "execution_count": 59,
   "id": "b7d421ad",
   "metadata": {
    "ExecuteTime": {
     "end_time": "2022-07-15T19:22:23.505153Z",
     "start_time": "2022-07-15T19:22:23.494856Z"
    }
   },
   "outputs": [
    {
     "data": {
      "text/plain": [
       "['toc_collapse_headings.png',\n",
       " 'download_as.png',\n",
       " 'nbextensions_interface.png',\n",
       " 'missing_kernel_new.png',\n",
       " 'click_name_to_show_settings.png',\n",
       " 'success_code_command.png',\n",
       " 'nbextensions_disabled.png',\n",
       " 'live_md_preview_settings.png',\n",
       " 'Screen_Shot_2022-08-05_at_6.55.05_PM.png',\n",
       " 'env_tester_final_msg.png',\n",
       " 'Troubleshooting-chapter.png',\n",
       " 'confirm_dojo_env.png',\n",
       " 'install_code_command.png',\n",
       " 'clone-repo-menu.png',\n",
       " 'turn_off_numbered_headers.png',\n",
       " 'windows_11_right_click2.png',\n",
       " 'download_report.png',\n",
       " 'nbextension_tab.png',\n",
       " 'conda_init_code.png',\n",
       " 'windows_11_right_click1.png',\n",
       " 'missing_kernel_notebook.png',\n",
       " 'nbextensions_toc_preview_spellcheck.png',\n",
       " 'uninstall_code.png',\n",
       " 'new_notebook.png',\n",
       " 'command_palette.png',\n",
       " 'kernel_error.png',\n",
       " 'jupyter_file_view.png',\n",
       " 'code_command_prompt.png',\n",
       " 'dojo-env-setup_ls_result.png',\n",
       " 'anaconda_check_path.png',\n",
       " 'code_not_found.png',\n",
       " 'toc2_settings.png',\n",
       " 'clone-repo-menu_annotated.png',\n",
       " 'clone_repo.png',\n",
       " 'toc_settings.png',\n",
       " 'About_this_Mac_-Intel.png',\n",
       " 'jupyter_notebook_view.png',\n",
       " 'collapsible_headings_settings.png',\n",
       " 'command_palette_popup.png']"
      ]
     },
     "execution_count": 59,
     "metadata": {},
     "output_type": "execute_result"
    }
   ],
   "source": [
    "## confirm image folder\n",
    "img_folder_new = \"../../images/lp/\"\n",
    "os.listdir(img_folder_new)"
   ]
  },
  {
   "cell_type": "code",
   "execution_count": null,
   "id": "09863068",
   "metadata": {},
   "outputs": [],
   "source": []
  },
  {
   "cell_type": "code",
   "execution_count": 60,
   "id": "4873aefa",
   "metadata": {
    "ExecuteTime": {
     "end_time": "2022-07-15T19:22:42.755238Z",
     "start_time": "2022-07-15T19:22:40.352412Z"
    }
   },
   "outputs": [
    {
     "data": {
      "application/vnd.jupyter.widget-view+json": {
       "model_id": "64a2b105473a41d0934c676a377841fb",
       "version_major": 2,
       "version_minor": 0
      },
      "text/plain": [
       "  0%|          | 0/15 [00:00<?, ?it/s]"
      ]
     },
     "metadata": {},
     "output_type": "display_data"
    },
    {
     "name": "stdout",
     "output_type": "stream",
     "text": [
      "- Files ./1 jupyter missing kernel Python (dojo-env)-fix.html already has the suffix for fixed files. Skipping...\n",
      "- Files ./2 conda activate error-gitbash-fix.html already has the suffix for fixed files. Skipping...\n",
      "- Files ./3 Code command not working - mac-fix.html already has the suffix for fixed files. Skipping...\n",
      "- Files ./4 GitBash Could not fork child process-fix.html already has the suffix for fixed files. Skipping...\n",
      "[!] Error for file:./4 GitBash Could not fork child process.html (img 'https://i.stack.imgur.com/Tps5X.png')\n",
      "   - list index out of range\n",
      "- Files ./5 Installing Graphviz - windows-fix.html already has the suffix for fixed files. Skipping...\n",
      "- Files ./6 Reinstalling dojo-env-fix.html already has the suffix for fixed files. Skipping...\n",
      "- Files ./7 Uninstall Anaconda Completely-fix.html already has the suffix for fixed files. Skipping...\n"
     ]
    }
   ],
   "source": [
    "from tqdm.notebook import tqdm\n",
    "for html_file in tqdm(html_files):\n",
    "    replace_s3_img_html(html_file, img_folder=img_folder_new)"
   ]
  },
  {
   "cell_type": "code",
   "execution_count": 61,
   "id": "2614ebb1",
   "metadata": {
    "ExecuteTime": {
     "end_time": "2022-07-15T19:22:45.545540Z",
     "start_time": "2022-07-15T19:22:45.535262Z"
    }
   },
   "outputs": [
    {
     "data": {
      "text/plain": [
       "['./1 jupyter missing kernel Python (dojo-env)-fix.html',\n",
       " './2 conda activate error-gitbash-fix.html',\n",
       " './3 Code command not working - mac-fix.html',\n",
       " './4 GitBash Could not fork child process-fix.html',\n",
       " './5 Installing Graphviz - windows-fix.html',\n",
       " './6 Reinstalling dojo-env-fix.html',\n",
       " './7 Uninstall Anaconda Completely-fix.html',\n",
       " './8 GitBash opens in the wrong folder-fix.html']"
      ]
     },
     "execution_count": 61,
     "metadata": {},
     "output_type": "execute_result"
    }
   ],
   "source": [
    "fixed_html_files = sorted(glob.glob(FOLDER+\"*fix.html\"))\n",
    "fixed_html_files"
   ]
  },
  {
   "cell_type": "code",
   "execution_count": 62,
   "id": "78979533",
   "metadata": {
    "ExecuteTime": {
     "end_time": "2022-07-15T19:30:39.721426Z",
     "start_time": "2022-07-15T19:30:39.695469Z"
    }
   },
   "outputs": [],
   "source": [
    "## append all html file contents to 1 list \n",
    "html_combined = [\"\"\"<!DOCTYPE html>\n",
    "<html><body><h1>TROUBLESHOOTING LESSONS (Copy of LP)</h1>\"\"\",\n",
    "                 \"<h2>Table of Contents:</h2><ol>\"]\n",
    "# html_combined.append(f\"<p><strong>If the images below are not visible:\\\n",
    "# please clone repo and then open <a href='./admin/{OUTPUT_FILE}' target='_blank' rel='noopener noreferrer'>this file</a> in your web browser.</p></strong>\")\n",
    "# html_combined.append(f\"\">)\n",
    "\n",
    "for i,file in enumerate(fixed_html_files):\n",
    "    \n",
    "    name = os.path.basename(file).replace(\"_\",' ').replace(\".html\",\"\").title()\n",
    "    with open(file) as f:\n",
    "        content = f.read()\n",
    "    \n",
    "    ## Getting Title for Table of Contents (index 1)\n",
    "    soup = BeautifulSoup(content)\n",
    "    title = soup.find(\"h1\").text\n",
    "    new_title = f\"{i+1}. {title}\"\n",
    "    html_combined[1]+=new_title+\"<br>\"\n",
    "    \n",
    "    ## replace title with numbered title\n",
    "    content = content.replace(title,new_title)\n",
    "    html_combined.append(f\"<hr></hr>\")\n",
    "    html_combined.append(content)\n",
    "    \n",
    "html_combined.append(\"</body></html>\")\n",
    "\n",
    "html_combined[1] +=\"</ol>\"\n",
    "## join using horizontal line\n",
    "final = \"<br>\".join(html_combined)\n",
    "\n",
    "\n",
    "# HTML(final)\n",
    "\n",
    "## save as README.lessons\n",
    "with open(OUTPUT_FILE,'w') as f:\n",
    "    f.write(final)"
   ]
  },
  {
   "cell_type": "code",
   "execution_count": 63,
   "id": "ca0a2099",
   "metadata": {
    "ExecuteTime": {
     "end_time": "2022-07-15T19:30:39.869600Z",
     "start_time": "2022-07-15T19:30:39.848546Z"
    }
   },
   "outputs": [],
   "source": [
    "content\n",
    "soup = BeautifulSoup(content)\n",
    "title = soup.find(\"h1\").text"
   ]
  },
  {
   "cell_type": "markdown",
   "id": "3d58c48f",
   "metadata": {},
   "source": [
    "## Preview Final HTML "
   ]
  },
  {
   "cell_type": "code",
   "execution_count": 64,
   "id": "d4594668",
   "metadata": {
    "ExecuteTime": {
     "end_time": "2022-07-15T19:30:40.155353Z",
     "start_time": "2022-07-15T19:30:40.146554Z"
    }
   },
   "outputs": [
    {
     "data": {
      "text/html": [
       "<!DOCTYPE html>\n",
       "<html><body><h1>TROUBLESHOOTING LESSONS (Copy of LP)</h1><br><h2>Table of Contents:</h2><ol>1. Kernel Error / Jupyter Missing \"Python (dojo-env)\" in kernels<br>2. conda activate error - GitBash<br>3. \"code\" Command Not Working (Mac)<br>4. GitBash Error: Could Not Fork Child Process<br>5. Installing Graphviz (Windows)<br>6. Reinstalling Dojo-Env<br>7. Uninstalling Anaconda (Completely)<br>8. GitBash Opens in the Wrong Folder<br></ol><br><hr></hr><br><h1>1. Kernel Error / Jupyter Missing \"Python (dojo-env)\" in kernels</h1>\n",
       "<h2>PROBLEM:</h2>\n",
       "<p></p>\n",
       "<ul>\n",
       "\t<li><strong>If you see a message like this when trying to open the environment testing notebook:<br></strong></li>\n",
       "</ul>\n",
       "<figure><img\n",
       "\t\tsrc=\"../../images/lp/kernel_error.png\">\n",
       "</figure>\n",
       "<p></p>\n",
       "<ul>\n",
       "\t<li><strong>OR if \"Python (dojo-env)\" doesn't show up in Jupyter Notebook in EITHER:</strong>\n",
       "\t\t<ul>\n",
       "\t\t\t<li>The \"New\" menu on the Files tab in Jupyter.</li>\n",
       "\t\t</ul>\n",
       "\t</li>\n",
       "\t<li>\n",
       "\t\t<figure><img\n",
       "\t\t\t\tsrc=\"../../images/lp/missing_kernel_new.png\"\n",
       "\t\t\t\tstyle=\"width: 620px; height: 277px;\" width=\"620\" height=\"277\"><br></figure>\n",
       "\t\t<ul>\n",
       "\t\t\t<li>\n",
       "\t\t\t\t<p>or the Kernel &gt; Change Kernel menu inside a Jupyter Notebook:<br></p>\n",
       "\t\t\t\t<figure><img\n",
       "\t\t\t\t\t\tsrc=\"../../images/lp/missing_kernel_notebook.png\"\n",
       "\t\t\t\t\t\tstyle=\"width: 519px; height: 323px;\" width=\"519\" height=\"323\"><span></span></figure>\n",
       "\t\t\t</li>\n",
       "\t\t</ul>\n",
       "\t</li>\n",
       "</ul>\n",
       "<h2>Solution</h2>\n",
       "<ul>\n",
       "\t<li>You missed a command after running the conda env create command during step 2, so let's rerun the command.</li>\n",
       "\t<li>First, shut down Jupyter Notebook <ul>\n",
       "\t\t\t<li>The quickest way is to go back to the Terminal/GitBash window that you used to start the notebook and\n",
       "\t\t\t\tpress \"control + C\"</li>\n",
       "\t\t</ul>\n",
       "\t</li>\n",
       "</ul>\n",
       "<ul>\n",
       "\t<li><strong>In your terminal/GitBash, make sure it says (dojo-env) above or next to your terminal prompt.</strong>\n",
       "\t\t<ul>\n",
       "\t\t\t<li>if not, on Mac run: <ul>\n",
       "\t\t\t\t\t<li>\"conda activate dojo-env\"</li>\n",
       "\t\t\t\t</ul>\n",
       "\t\t\t</li>\n",
       "\t\t\t<li>on Windows run:<ul>\n",
       "\t\t\t\t\t<li>\"source activate dojo-env\"</li>\n",
       "\t\t\t\t</ul>\n",
       "\t\t\t</li>\n",
       "\t\t</ul>\n",
       "\t</li>\n",
       "\t<li><strong>Then run the command below to install dojo-env as a kernel in jupyter:</strong></li>\n",
       "</ul>\n",
       "<pre>python -m ipykernel install --user --name dojo-env --display-name \"Python (dojo-env)\"</pre>\n",
       "<p>Then, go ahead and boot up jupyter notebook and try again. It should now know the \"Python (dojo-env)\" kernel.</p><br><hr></hr><br><h1>2. conda activate error - GitBash</h1>\n",
       "<h2>PROBLEM:</h2>\n",
       "<ul>\n",
       "\t<li>You see the following error message in GitBash:</li>\n",
       "</ul>\n",
       "<pre>CommandNotFoundError: Your shell has not been properly configured to use 'conda activate'.\n",
       "To initialize your shell, run\n",
       "    $ conda init &lt;shell_name&gt;\n",
       "Currently supported shells are:\n",
       "  - bash\n",
       "  - fish\n",
       "  - tcsh\n",
       "  - xonsh\n",
       "  - zsh\n",
       "  - powershell\n",
       "See 'conda init --help' for more information and options.&lt;/shell_name&gt;\n",
       "</pre>\n",
       "<h3>Solution 1:</h3>\n",
       "<ul>\n",
       "\t<li>For your computer, run \"source activate dojo-env\" instead of conda activate.<ul>\n",
       "\t\t\t<li>ANYTIME you see a set of instructions that says to run \"conda activate\" you should ALWAYS replace the\n",
       "\t\t\t\tword \"conda\" with \"source\". </li>\n",
       "\t\t</ul>\n",
       "\t</li>\n",
       "</ul>\n",
       "<pre>source activate dojo-env</pre>\n",
       "<div>\n",
       "\t<h3>PROBLEM - V2: </h3>\n",
       "</div>\n",
       "<div>\n",
       "\t<ul>\n",
       "\t\t<li>If you are seeing this message EVERY time you open a new GitBash Window. </li>\n",
       "\t</ul>\n",
       "\t<p>Solution 2: </p>\n",
       "\t<ul>\n",
       "\t\t<li>During step 2, you were told to run the following echo conda activate command but your computer requires you\n",
       "\t\t\tto use \"source activate\" instead of \"conda activate\"</li>\n",
       "\t</ul>\n",
       "\t<pre>## INCORRECT What you ran previously\n",
       "echo \"conda activate dojo-env\" &gt;&gt; ~/.bash_profile</pre>\n",
       "\t<ul>\n",
       "\t\t<li><strong>Step 1) To fix this, you need to open the hidden file \".bash_profile\" in VS Code to fix the\n",
       "\t\t\t\tcommand</strong>.<ul>\n",
       "\t\t\t\t<li>In GitBash run the following command to open the file in VS Code.</li>\n",
       "\t\t\t</ul>\n",
       "\t\t</li>\n",
       "\t</ul>\n",
       "\t<pre>code ~/.bash_profile</pre>\n",
       "\t<ul>\n",
       "\t\t<li><strong>If this doesn't work and says file not found,</strong> change the \"~./\" to your full file path to\n",
       "\t\t\tyour user folder:<ul>\n",
       "\t\t\t\t<li>In the example below, replace &lt;USERFOLDER&gt; with your actual User account name.<p><br></p>\n",
       "\t\t\t\t\t<ul>\n",
       "\t\t\t\t\t\t<li>Note: if you do not know your username, run the \"whoami\" command in GitBash. The text\n",
       "\t\t\t\t\t\t\tdisplayed is your &lt;USERFOLDER&gt;</li>\n",
       "\t\t\t\t\t</ul>\n",
       "\t\t\t\t</li>\n",
       "\t\t\t</ul>\n",
       "\t\t</li>\n",
       "\t</ul>\n",
       "\t<pre>code /c/Users/&lt;USERFOLDER&gt;/.bash_profile</pre>\n",
       "\t<p><br></p>\n",
       "\t<ul>\n",
       "\t\t<li><strong>Step 2) in the vs code window that opens, you should see the 3 lines of text below. <br></strong>\n",
       "\t\t</li>\n",
       "\t</ul>\n",
       "\t<pre>conda activate dojo-env\n",
       "alias jnb=\"jupyter notebook\"\n",
       "alias lab=\"jupyter lab\"</pre>\n",
       "\t<ul>\n",
       "\t\t<li>Replace the word \"conda\" with \"source\" and then click on File &gt; Save.</li>\n",
       "\t\t<ul>\n",
       "\t\t\t<li>So your final .bash_profile should now say: </li>\n",
       "\t\t</ul>\n",
       "\t</ul>\n",
       "\t<pre>source activate dojo-env\n",
       "alias jnb=\"jupyter notebook\"\n",
       "alias lab=\"jupyter lab\"</pre>\n",
       "\t<p> (Note: it is okay if there is additional text in this file. Whats important is that you change the conda\n",
       "\t\tactivate command to source activate.) </p>\n",
       "\t<p><br></p>\n",
       "\t<ul>\n",
       "\t\t<li><strong>Step 3) Open a NEW GitBash window and the message should no longer appear!</strong></li>\n",
       "\t</ul>\n",
       "</div><br><hr></hr><br><p><br></p>\n",
       "<h1>3. \"code\" Command Not Working (Mac)</h1>\n",
       "<p><br></p>\n",
       "<figure><img\n",
       "\t\tsrc=\"../../images/lp/code_not_found.png\">\n",
       "</figure>\n",
       "<p><br></p>\n",
       "<ul>\n",
       "\t<li>If you are trying to open VS Code using the \"code\" command in your Terminal and receive an error message that\n",
       "\t\tsays </li>\n",
       "</ul>\n",
       "<pre>command not found: code</pre>\n",
       "<ul>\n",
       "\t<li><strong>Open VS Code manually</strong> (check the Applications folder or use Spotlight Search)</li>\n",
       "\t<li>Open the Command Palette. <ul>\n",
       "\t\t\t<li>On the menu bar (top of the screen), select \"View\" &gt; and then select \"Command Palette\"</li>\n",
       "\t\t</ul>\n",
       "\t</li>\n",
       "</ul>\n",
       "<figure><img\n",
       "\t\tsrc=\"../../images/lp/command_palette.png\"\n",
       "\t\tstyle=\"width: 590px; height: 476px;\" width=\"590\" height=\"476\"></figure>\n",
       "<ul>\n",
       "\t<li>A popup window will appear with a \"&gt;\" prompt. </li>\n",
       "</ul>\n",
       "<figure><img\n",
       "\t\tsrc=\"../../images/lp/command_palette_popup.png\"\n",
       "\t\tstyle=\"width: 465px; height: 252px;\" width=\"465\" height=\"252\"></figure>\n",
       "<p><br></p>\n",
       "<ul>\n",
       "\t<li>Start typing \"install code\" and you should see the option appear for \"Shell Command: Install 'code' command in\n",
       "\t\tPATH\". <ul>\n",
       "\t\t\t<li>Click on this option.</li>\n",
       "\t\t</ul>\n",
       "\t</li>\n",
       "</ul>\n",
       "<figure><img\n",
       "\t\tsrc=\"../../images/lp/install_code_command.png\"\n",
       "\t\tstyle=\"width: 568px; height: 84px;\" width=\"568\" height=\"84\"></figure>\n",
       "<ul>\n",
       "\t<li>It will then notify you that you will be prompted to give \"osascript\" administrative privileges.</li>\n",
       "</ul>\n",
       "<p><br></p>\n",
       "<figure><img\n",
       "\t\tsrc=\"../../images/lp/code_command_prompt.png\"\n",
       "\t\tstyle=\"width: 246px; height: 214px;\" width=\"246\" height=\"214\"></figure>\n",
       "<p><br></p>\n",
       "<ul>\n",
       "\t<li> Click OK and then on the next pop-up window, enter your normal password for your Mac.<ul>\n",
       "\t\t\t<li>You should see a success message like the one below. </li>\n",
       "\t\t</ul>\n",
       "\t</li>\n",
       "</ul>\n",
       "<figure><img\n",
       "\t\tsrc=\"../../images/lp/success_code_command.png\"\n",
       "\t\tstyle=\"width: 322px; height: 241px;\" width=\"322\" height=\"241\"></figure>\n",
       "<p></p>\n",
       "<ul>\n",
       "\t<li>You are all set! Try the code command again.</li>\n",
       "</ul>\n",
       "<p><br></p>\n",
       "<ul>\n",
       "\t<li><strong>NOTE: if you get an error message when running the install code command:</strong>\n",
       "\t\t<ul>\n",
       "\t\t\t<li>First UNinstall the code command (which is counter-intuitive).<figure><img\n",
       "\t\t\t\t\t\tsrc=\"../../images/lp/uninstall_code.png\"\n",
       "\t\t\t\t\t\tstyle=\"width: 576px; height: 76px;\" width=\"576\" height=\"76\"></figure>\n",
       "\t\t\t</li>\n",
       "\t\t\t<li>Then rerun the install code command.</li>\n",
       "\t\t</ul>\n",
       "\t</li>\n",
       "</ul><br><hr></hr><br><h1>4. GitBash Error: Could Not Fork Child Process</h1>\n",
       "<h2>The Problem: </h2>\n",
       "<h2>Opening a GitBash windows displays an error message \"Could not fork child process\"</h2>\n",
       "<p><img src=\"https://i.stack.imgur.com/Tps5X.png\" alt=\"enter image description here\"></p>\n",
       "<p><br></p>\n",
       "<h2>The Solution</h2>\n",
       "<p><strong>Solution 1: </strong>(adapted from: <a\n",
       "\t\thref=\"https://rotadev.com/git-bash-error-could-not-fork-child-process-there-are-no-available-terminals-1-dev/\">https://rotadev.com/git-bash-error-could-not-fork-child-process-there-are-no-available-terminals-1-dev/</a>\n",
       "\t)</p>\n",
       "<ul>\n",
       "\t<li>The problem occurs on Windows with Git Bash when the Git Bash console is closed/killed without using ‘exit’.<ul>\n",
       "\t\t\t<li>1. Close all Git Bash windows.</li>\n",
       "\t\t\t<li>2. Open Task manager (Keyboard shortcut: Control + Shift + Escape.)</li>\n",
       "\t\t\t<li>3. Find the ‘Git for Windows’ process.<ul>\n",
       "\t\t\t\t\t<li>If you do not see any \"Git for Windows\" processes, look for:<ul>\n",
       "\t\t\t\t\t\t\t<li>python</li>\n",
       "\t\t\t\t\t\t\t<li>msys2</li>\n",
       "\t\t\t\t\t\t</ul>\n",
       "\t\t\t\t\t</li>\n",
       "\t\t\t\t</ul>\n",
       "\t\t\t</li>\n",
       "\t\t\t<li>4. Kill any processes that are running that meet the above criterion.</li>\n",
       "\t\t\t<li>5. Re-open Git Bash. The problem should be fixed.</li>\n",
       "\t\t\t<li>See the Prevention heading below for how to avoid this error in the future</li>\n",
       "\t\t</ul>\n",
       "\t</li>\n",
       "</ul>\n",
       "<p><strong>Solution 2 (if #1 did not resolve the issue):</strong></p>\n",
       "<ul>\n",
       "\t<li>The problem may also occur due to VS Code's integrated terminal.</li>\n",
       "\t<li>Close any Visual Studio Code windows </li>\n",
       "\t<li>Check Task Manager for any Visual Studio Code processes that are still running and kill them.</li>\n",
       "\t<li>Re-open Git Bash. The problem should be fixed.</li>\n",
       "\t<li>See the Prevention heading below for how to avoid this error in the future</li>\n",
       "</ul>\n",
       "<p><strong>Solution 3 (will always work but not convenient)</strong></p>\n",
       "<ul>\n",
       "\t<li>If neither solution worked, restart your computer.</li>\n",
       "\t<li>While not convenient, it will solve the issue. See the Prevention heading below for how to avoid this error in\n",
       "\t\tthe future.</li>\n",
       "</ul>\n",
       "<p><br></p>\n",
       "<h2>Prevention</h2>\n",
       "<ul>\n",
       "\t<li>Always make sure to shut down jupyter notebook properly before closing. <ul>\n",
       "\t\t\t<li>From jupyter's file view:<ul>\n",
       "\t\t\t\t\t<li>Click Shutdown on the top right corner</li>\n",
       "\t\t\t\t</ul>\n",
       "\t\t\t</li>\n",
       "\t\t\t<li>From GitBash:<ul>\n",
       "\t\t\t\t\t<li>Press \"Control + C\" to quit jupyter server from the GitBash window that started jupyter\n",
       "\t\t\t\t\t\tnotebook.<ul>\n",
       "\t\t\t\t\t\t\t<li>If asked y/n, answer \"y\".</li>\n",
       "\t\t\t\t\t\t</ul>\n",
       "\t\t\t\t\t</li>\n",
       "\t\t\t\t</ul>\n",
       "\t\t\t</li>\n",
       "\t\t</ul>\n",
       "\t</li>\n",
       "</ul>\n",
       "<p><br></p>\n",
       "<p></p>\n",
       "<p><br></p><br><hr></hr><br><h1>5. Installing Graphviz (Windows)</h1>\n",
       "<p></p>\n",
       "<p>Graphivz is an optional package that will allow you to generate a more advanced version of scikit-learn decision tree\n",
       "\tplots.</p>\n",
       "<ul>\n",
       "\t<li><strong>Please follow these instructions from Graphivz's Website: </strong><a\n",
       "\t\t\thref=\"https://forum.graphviz.org/t/new-simplified-installation-procedure-on-windows/224\">https://forum.graphviz.org/t/new-simplified-installation-procedure-on-windows/224</a>\n",
       "\t</li>\n",
       "\t<li>You will be downloading the installer from <a\n",
       "\t\t\thref=\"https://graphviz.org/download/\">https://graphviz.org/download/</a><span></span></li>\n",
       "\t<li><strong>Make sure to follow step \"10 Select Add Graphviz to the system PATH for current user in this\n",
       "\t\t\tdialog:\"</strong></li>\n",
       "</ul>\n",
       "<p><br></p>\n",
       "<p><br></p>\n",
       "<p><br></p><br><hr></hr><br><h1>6. Reinstalling Dojo-Env</h1>\n",
       "<div><br></div>\n",
       "<h2>What to do if your environment breaks and you need to re-install it.</h2>\n",
       "<ul>\n",
       "\t<li>It is not uncommon to accidentally break our virtual environment by installing a new package or updating a\n",
       "\t\tpre-existing one.</li>\n",
       "\t<li>In the event that your environment stops working and it needs to be re-installed:<ol>\n",
       "\t\t\t<li>open your terminal/gitbash and deactivate your <code>dojo-env</code>:<ul>\n",
       "\t\t\t\t\t<li>Type <code>conda activate base</code> or <code>conda deactivate</code> and press enter.</li>\n",
       "\t\t\t\t\t<li>Your terminal should now say <code>(base)</code> with your prompt instead of\n",
       "\t\t\t\t\t\t<code>(dojo-env)</code>.</li>\n",
       "\t\t\t\t</ul>\n",
       "\t\t\t</li>\n",
       "\t\t\t<li>Remove the broken <code>dojo-env</code> using the command:<ul>\n",
       "\t\t\t\t\t<li><code>conda remove --name dojo-env --all</code></li>\n",
       "\t\t\t\t\t<li>enter <code>y</code> to approve the removal of the environment and hit enter.</li>\n",
       "\t\t\t\t</ul>\n",
       "\t\t\t</li>\n",
       "\t\t\t<li>Wait for the env to be removed.<ul>\n",
       "\t\t\t\t\t<li>This will delete all of the files associated with JUST our <code>dojo-env</code>. So anconda\n",
       "\t\t\t\t\t\twill still be installed, we will just need to re-install our <code>dojo-env</code>.</li>\n",
       "\t\t\t\t</ul>\n",
       "\t\t\t</li>\n",
       "\t\t\t<li>Once its completed, repeat the environment installation commands from step \"2.3 Create the dojo-env\n",
       "\t\t\t\tenvironment\"<ol>\n",
       "\t\t\t\t\t<li>Don't forget to run the python -m ipykernel command after creating the dojo-env in step 2.3!\n",
       "\t\t\t\t\t</li>\n",
       "\t\t\t\t</ol>\n",
       "\t\t\t</li>\n",
       "\t\t</ol>\n",
       "\t</li>\n",
       "</ul><br><hr></hr><br><h1>7. Uninstalling Anaconda (Completely)</h1>\n",
       "<p>When facing stubborn environment problems, sometimes the best course of action is to completely uninstall the\n",
       "\tenvironment AND Anaconda and to start over. </p>\n",
       "<p><strong>Pre-Uninstallation Verification Step:</strong></p>\n",
       "<ul>\n",
       "\t<li><strong>If you share your computer with another User who also uses Python:</strong>\n",
       "\t\t<ul>\n",
       "\t\t\t<li>Pause here and check with them BEFORE you uninstall anaconda. <strong>You will be removing all of their\n",
       "\t\t\t\t\tpython environments too,</strong> even though they have a separate User account.</li>\n",
       "\t\t</ul>\n",
       "\t</li>\n",
       "</ul>\n",
       "<ul>\n",
       "\t<li><strong>If you share your computer with someone and they have concerns about uninstalling anaconda: </strong>\n",
       "\t\t<ul>\n",
       "\t\t\t<li><strong>Stop here (for now)</strong>.<ul>\n",
       "\t\t\t\t\t<li>Do not move forward with the instructions until you have spoken with your instructor. </li>\n",
       "\t\t\t\t</ul>\n",
       "\t\t\t</li>\n",
       "\t\t</ul>\n",
       "\t</li>\n",
       "</ul>\n",
       "<p>\n",
       "\t<font color=\"#505050\" face=\"Gotham-Rounded-Medium\"><br></font>\n",
       "</p>\n",
       "<h4>Official Steps for Fully Uninstalling Anaconda:</h4>\n",
       "<p>The following steps are taken directly from the <a href=\"https://docs.anaconda.com/anaconda/install/uninstall/\"\n",
       "\t\ttarget=\"_blank\">Official Uninstalling Anaconda documentation page</a>, specifically \"Option B. Full uninstall\n",
       "\tusing Anaconda-Clean and simple remove.\"</p>\n",
       "<ul>\n",
       "\t<li><strong>Install the Anaconda-Clean package from Anaconda Prompt (terminal on Linux or macOS):</strong></li>\n",
       "</ul>\n",
       "<pre data-language=\"ruby\" class=\"rainbow\">conda install anaconda-clean</pre>\n",
       "<ul>\n",
       "\t<li>In the same window, run the following command:</li>\n",
       "</ul>\n",
       "<pre data-language=\"ruby\" class=\"rainbow\">anaconda-clean --yes</pre>\n",
       "<ul>\n",
       "\t<li>Once the process has been completed, manually delete any \"anaconda3\" or \"anaconda2\" folders that still exist.\n",
       "\t\t<ul>\n",
       "\t\t\t<li>It may be located in one of several possible folders. Run the following \"ls -a\" commands until you see a\n",
       "\t\t\t\tfolder called \"anconda2\" or \"anaconda3\". </li>\n",
       "\t\t\t<li><strong>Once you see an anaconda folder, take note of:</strong>\n",
       "\t\t\t\t<ul>\n",
       "\t\t\t\t\t<li><strong> Which command showed the folder.</strong>\n",
       "\t\t\t\t\t\t<ul>\n",
       "\t\t\t\t\t\t\t<li><strong> Specifically, what did the command say after \"ls -a\" </strong></li>\n",
       "\t\t\t\t\t\t\t<li>We will refer to this as your \"base folder\" in the final step.</li>\n",
       "\t\t\t\t\t\t</ul>\n",
       "\t\t\t\t\t</li>\n",
       "\t\t\t\t\t<li><strong>If the anaconda folder was \"anconda2\" or \"anaconda3\"</strong>\n",
       "\t\t\t\t\t\t<ul>\n",
       "\t\t\t\t\t\t\t<li>We will refer to this as your \"anaconda folder\" in the final step.</li>\n",
       "\t\t\t\t\t\t</ul>\n",
       "\t\t\t\t\t</li>\n",
       "\t\t\t\t</ul>\n",
       "\t\t\t</li>\n",
       "\t\t\t<li><strong>and j</strong>ump to the very last command at the bottom of the page, with those 2 pieces of\n",
       "\t\t\t\tinformation.</li>\n",
       "\t\t</ul>\n",
       "\t</li>\n",
       "</ul>\n",
       "<pre data-language=\"ruby\" class=\"rainbow\">ls -a ~/\n",
       "ls -a ~/opt/\n",
       "ls -a /opt/</pre>\n",
       "<ul>\n",
       "\t<li>Run the final command to remove the anaconda folder once you've identified your \"base folder\" and \"anaconda\n",
       "\t\tfolder\".<ul>\n",
       "\t\t\t<li>Replace {base_folder} with the actual folder name</li>\n",
       "\t\t</ul>\n",
       "\t\t<ul>\n",
       "\t\t\t<li>Replace {anaconda_folder} with the actual folder name.</li>\n",
       "\t\t</ul>\n",
       "\t</li>\n",
       "</ul>\n",
       "<pre data-language=\"ruby\" class=\"rainbow\">rm -rf {base_folder}{anaconda_folder}\n",
       "</pre>\n",
       "<p><br></p>\n",
       "<p>Once you've replaced the placeholder folder names with your actual folder names, the command should look something\n",
       "\tlike this:</p>\n",
       "<pre data-language=\"ruby\" class=\"rainbow\">rm -rf ~/opt/anaconda3\n",
       "# or \n",
       "rm -rf ~/anaconda2\n",
       "# or \n",
       "rm -rf ~/opt/anaconda3</pre>\n",
       "<h4></h4>\n",
       "<h4>Final Verification Step:</h4>\n",
       "<ul>\n",
       "\t<li><strong>Now, open a new terminal window and try running the \"conda\" command again. Your terminal should say that\n",
       "\t\t\tconda is not found.</strong>\n",
       "\t\t<ul>\n",
       "\t\t\t<li><strong>If it says conda is not found, you are now ready to jump back up to the \"Step 3\n",
       "\t\t\t\t\tCommands\"</strong> header above.</li>\n",
       "\t\t</ul>\n",
       "\t\t<ul>\n",
       "\t\t\t<li><strong>If your computer still displays a list of conda commands</strong>: please see the final portion\n",
       "\t\t\t\tof the <a\n",
       "\t\t\t\t\thref=\"https://docs.anaconda.com/anaconda/install/uninstall/#removing-anaconda-path-from-bash-profile\"\n",
       "\t\t\t\t\ttarget=\"_blank\">Official Uninstallation Instructions \"Removing Anaconda from .bash_profile\"</a>,\n",
       "\t\t\t\twhich is illustrated below:</li>\n",
       "\t\t</ul>\n",
       "\t</li>\n",
       "</ul>\n",
       "<ul>\n",
       "\t<li><strong>Open the two settings file for your terminal and remove anything related to anaconda:</strong>\n",
       "\t\t<ul>\n",
       "\t\t\t<li><strong>1) Run the \"open ~/.bash_profile\" (without quotation marks) command and a text editor window\n",
       "\t\t\t\t\tshould open.</strong>\n",
       "\t\t\t\t<ul>\n",
       "\t\t\t\t\t<li> Examine the contents of this file and <strong>delete any lines that look like either of the\n",
       "\t\t\t\t\t\t\tscreenshots below</strong>:<ul>\n",
       "\t\t\t\t\t\t\t<li><br><img\n",
       "\t\t\t\t\t\t\t\t\tsrc=\"../../images/lp/conda_init_code.png\">\n",
       "\t\t\t\t\t\t\t</li>\n",
       "\t\t\t\t\t\t\t<li><img\n",
       "\t\t\t\t\t\t\t\t\tsrc=\"../../images/lp/Screen_Shot_2022-08-05_at_6.55.05_PM.png\">\n",
       "\t\t\t\t\t\t\t</li>\n",
       "\t\t\t\t\t\t</ul>\n",
       "\t\t\t\t\t</li>\n",
       "\t\t\t\t\t<li>Save the file and close it.</li>\n",
       "\t\t\t\t</ul>\n",
       "\t\t\t</li>\n",
       "\t\t\t<li>2) <strong>Now repeat the process, but use the \"open ~/.zshrc\"</strong> (without quotation marks)\n",
       "\t\t\t\tcommand<ul>\n",
       "\t\t\t\t\t<li>Delete any lines of code that look like the screenshots above.</li>\n",
       "\t\t\t\t\t<li>Save the file and close it.</li>\n",
       "\t\t\t\t</ul>\n",
       "\t\t\t</li>\n",
       "\t\t</ul>\n",
       "\t</li>\n",
       "</ul>\n",
       "<p><br></p>\n",
       "<ul>\n",
       "\t<li><strong>FInal Verification:</strong>\n",
       "\t\t<ul>\n",
       "\t\t\t<li>Open a New Terminal Window (the changes you made above only take effect when opening a new window)</li>\n",
       "\t\t\t<li>Run the \"conda\" command again and you should now see a message that says \"conda not found\"<ul>\n",
       "\t\t\t\t\t<li>If you are still seeing the list of conda commands instead, re-open the two files listed above\n",
       "\t\t\t\t\t\tand make sure you saved them after deleting the lines of code. </li>\n",
       "\t\t\t\t\t<li>Close your terminal window and open a new one and try the \"conda\" command again.</li>\n",
       "\t\t\t\t</ul>\n",
       "\t\t\t</li>\n",
       "\t\t</ul>\n",
       "\t</li>\n",
       "</ul>\n",
       "<p><br></p>\n",
       "<ul>\n",
       "\t<li><strong>If the conda command still displays the list of commands after the steps above:</strong>\n",
       "\t\t<ul>\n",
       "\t\t\t<li><strong>Try restarting your computer </strong>and attempting to run the command one more time.</li>\n",
       "\t\t\t<li><strong>If you are still seeing conda commands:</strong>\n",
       "\t\t\t\t<ul>\n",
       "\t\t\t\t\t<li>You should post your problem on the <a\n",
       "\t\t\t\t\t\t\thref=\"https://discord.com/channels/738494436467539968/999108307627294770\"\n",
       "\t\t\t\t\t\t\ttarget=\"_blank\">ds-python-installation</a><span></span><span></span> discord channel for a\n",
       "\t\t\t\t\t\tTA or instructor to assist you.</li>\n",
       "\t\t\t\t\t<li>You can also email your instructor about the issue (please cc: jirving@codingdojo.com)</li>\n",
       "\t\t\t\t</ul>\n",
       "\t\t\t</li>\n",
       "\t\t</ul>\n",
       "\t</li>\n",
       "</ul><br><hr></hr><br><h1>8. GitBash Opens in the Wrong Folder</h1>\n",
       "<h2></h2>\n",
       "<h3>PROBLEM: </h3>\n",
       "<div>Opening GitBash from Windows start menu (not from Github Desktop) and starting jupyter notebook displays a folder\n",
       "\tcontaining bin/cmd/dev/etc ( see screenshot below) instead of the expected User folder with Documents/Downloads/etc.\n",
       "</div>\n",
       "<div>\n",
       "\t<p><br></p>\n",
       "\t<figure><img\n",
       "\t\t\tsrc=\"../../images/lp/gitbash_wrong_home.png\"\n",
       "\t\t\tstyle=\"width: 660px; height: 548px;\" width=\"660\" height=\"548\"></figure>\n",
       "\t<p></p>\n",
       "\t<h2>Cause</h2>\n",
       "\t<p>Your GitBash program defaults to the folder where GItBash is installed. What you are seeing above is the contents\n",
       "\t\tof C:/Program Files/GitBash. This happens to a small percentage of windows users. </p>\n",
       "\t<p><br></p>\n",
       "\t<h3>Solution/Workaround</h3>\n",
       "</div>\n",
       "<ul>\n",
       "\t<li>First, run the following echo command to add one more alias to GitBash and then open a new GitBash window</li>\n",
       "</ul>\n",
       "<pre class=\"rainbow\" data-language=\"ruby\">echo 'alias ~=\"$HOME\"' &gt;&gt; ~/.bash_profile</pre>\n",
       "<ul>\n",
       "\t<li>Now test the command by runing the commands below to change directory to \"~\" and to display the current folder\n",
       "\t\tname. </li>\n",
       "</ul>\n",
       "<pre class=\"rainbow\" data-language=\"ruby\">cd ~\n",
       "ls</pre>\n",
       "<ul>\n",
       "\t<li>If you can see your Downloads, Desktop, Documents, etc. folders then the alias worked!</li>\n",
       "</ul>\n",
       "<h3>New Workflow</h3>\n",
       "<ul>\n",
       "\t<li>From now on, if you want to open a GitBash in your user folder, you will run \"cd ~\" as soon as you open a new\n",
       "\t\tGitBash window.<ul>\n",
       "\t\t\t<li>Note: if you are opening a specific repo from GitHub Desktop you will NOT want to run this command,\n",
       "\t\t\t\tsince you are already in the desired folder.</li>\n",
       "\t\t</ul>\n",
       "\t</li>\n",
       "</ul>\n",
       "<p> <br></p><br></body></html>"
      ],
      "text/plain": [
       "<IPython.core.display.HTML object>"
      ]
     },
     "metadata": {},
     "output_type": "display_data"
    }
   ],
   "source": [
    "## save as README.lessons\n",
    "with open(OUTPUT_FILE) as f:\n",
    "    display(HTML(f.read()))"
   ]
  },
  {
   "cell_type": "code",
   "execution_count": 65,
   "id": "211e5e7b",
   "metadata": {
    "ExecuteTime": {
     "end_time": "2022-07-15T19:31:10.208876Z",
     "start_time": "2022-07-15T19:31:10.200182Z"
    }
   },
   "outputs": [],
   "source": [
    "## Make md header\n",
    "md_header = '''# Troubleshooting Instructions\n",
    "\n",
    "<img src=\"../images/Data Science Thumbnail.png\">\n",
    "\n",
    "'''\n",
    "final_for_readme = copy(final)\n",
    "final_for_readme = final_for_readme.replace('../images','images')\n",
    "with open(\"../README.md\",'w') as f:\n",
    "    f.write(md_header)\n",
    "    f.write(final_for_readme)"
   ]
  },
  {
   "cell_type": "code",
   "execution_count": 66,
   "id": "ab9e84d7",
   "metadata": {
    "ExecuteTime": {
     "end_time": "2022-07-15T19:31:30.251801Z",
     "start_time": "2022-07-15T19:31:30.238063Z"
    }
   },
   "outputs": [],
   "source": [
    "# with open(\"../README.md\") as f:\n",
    "#     display(Markdown(f.read()))"
   ]
  },
  {
   "cell_type": "code",
   "execution_count": null,
   "id": "77f46516",
   "metadata": {},
   "outputs": [],
   "source": []
  }
 ],
 "metadata": {
  "kernelspec": {
   "display_name": "Python (dojo-env)",
   "language": "python",
   "name": "dojo-env"
  },
  "language_info": {
   "codemirror_mode": {
    "name": "ipython",
    "version": 3
   },
   "file_extension": ".py",
   "mimetype": "text/x-python",
   "name": "python",
   "nbconvert_exporter": "python",
   "pygments_lexer": "ipython3",
   "version": "3.8.13"
  },
  "toc": {
   "base_numbering": 1,
   "nav_menu": {},
   "number_sections": false,
   "sideBar": true,
   "skip_h1_title": false,
   "title_cell": "Table of Contents",
   "title_sidebar": "Contents",
   "toc_cell": false,
   "toc_position": {},
   "toc_section_display": true,
   "toc_window_display": false
  }
 },
 "nbformat": 4,
 "nbformat_minor": 5
}
